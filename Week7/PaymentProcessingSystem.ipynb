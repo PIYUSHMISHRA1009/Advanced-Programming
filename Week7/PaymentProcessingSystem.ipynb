{
 "cells": [
  {
   "cell_type": "code",
   "execution_count": 1,
   "id": "232e5188",
   "metadata": {},
   "outputs": [
    {
     "name": "stdout",
     "output_type": "stream",
     "text": [
      "Processing credit card payment of $100\n",
      "Processing PayPal payment of $50\n",
      "Processing bank transfer of $200\n",
      "Issuing credit card refund of $20\n"
     ]
    }
   ],
   "source": [
    "class PaymentMethod:\n",
    "    def process_payment(self, amount):\n",
    "        raise NotImplementedError(\"This method should be overridden in subclasses\")\n",
    "\n",
    "    def issue_refund(self, amount):\n",
    "        raise NotImplementedError(\"This method should be overridden in subclasses\")\n",
    "\n",
    "class CreditCardPayment(PaymentMethod):\n",
    "    def __init__(self, card_number, expiry_date, cvv):\n",
    "        self.card_number = card_number\n",
    "        self.expiry_date = expiry_date\n",
    "        self.cvv = cvv\n",
    "\n",
    "    def process_payment(self, amount):\n",
    "        if self.validate_card():\n",
    "            print(f\"Processing credit card payment of ${amount}\")\n",
    "        else:\n",
    "            print(\"Credit card validation failed.\")\n",
    "\n",
    "    def issue_refund(self, amount):\n",
    "        print(f\"Issuing credit card refund of ${amount}\")\n",
    "\n",
    "    def validate_card(self):\n",
    "        # Dummy validation logic\n",
    "        return True\n",
    "\n",
    "class PayPalPayment(PaymentMethod):\n",
    "    def __init__(self, email, password):\n",
    "        self.email = email\n",
    "        self.password = password\n",
    "\n",
    "    def process_payment(self, amount):\n",
    "        if self.authenticate():\n",
    "            print(f\"Processing PayPal payment of ${amount}\")\n",
    "        else:\n",
    "            print(\"PayPal authentication failed.\")\n",
    "\n",
    "    def issue_refund(self, amount):\n",
    "        print(f\"Issuing PayPal refund of ${amount}\")\n",
    "\n",
    "    def authenticate(self):\n",
    "        # Dummy authentication logic\n",
    "        return True\n",
    "\n",
    "class BankTransferPayment(PaymentMethod):\n",
    "    def __init__(self, account_number, sort_code):\n",
    "        self.account_number = account_number\n",
    "        self.sort_code = sort_code\n",
    "\n",
    "    def process_payment(self, amount):\n",
    "        print(f\"Processing bank transfer of ${amount}\")\n",
    "\n",
    "    def issue_refund(self, amount):\n",
    "        print(f\"Issuing bank transfer refund of ${amount}\")\n",
    "\n",
    "# Usage\n",
    "credit_card_payment = CreditCardPayment(\"1234567890123456\", \"12/25\", \"123\")\n",
    "paypal_payment = PayPalPayment(\"user@example.com\", \"password123\")\n",
    "bank_transfer_payment = BankTransferPayment(\"111222333\", \"040404\")\n",
    "\n",
    "credit_card_payment.process_payment(100)\n",
    "paypal_payment.process_payment(50)\n",
    "bank_transfer_payment.process_payment(200)\n",
    "\n",
    "credit_card_payment.issue_refund(20)\n"
   ]
  },
  {
   "cell_type": "code",
   "execution_count": null,
   "id": "a074daac",
   "metadata": {},
   "outputs": [],
   "source": []
  }
 ],
 "metadata": {
  "kernelspec": {
   "display_name": "Python 3 (ipykernel)",
   "language": "python",
   "name": "python3"
  },
  "language_info": {
   "codemirror_mode": {
    "name": "ipython",
    "version": 3
   },
   "file_extension": ".py",
   "mimetype": "text/x-python",
   "name": "python",
   "nbconvert_exporter": "python",
   "pygments_lexer": "ipython3",
   "version": "3.9.13"
  }
 },
 "nbformat": 4,
 "nbformat_minor": 5
}
