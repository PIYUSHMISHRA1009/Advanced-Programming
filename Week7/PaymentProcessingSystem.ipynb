class PaymentMethod:
    def process_payment(self, amount):
        raise NotImplementedError("This method should be overridden in subclasses")

    def issue_refund(self, amount):
        raise NotImplementedError("This method should be overridden in subclasses")

class CreditCardPayment(PaymentMethod):
    def __init__(self, card_number, expiry_date, cvv):
        self.card_number = card_number
        self.expiry_date = expiry_date
        self.cvv = cvv

    def process_payment(self, amount):
        if self.validate_card():
            print(f"Processing credit card payment of ${amount}")
        else:
            print("Credit card validation failed.")

    def issue_refund(self, amount):
        print(f"Issuing credit card refund of ${amount}")

    def validate_card(self):
        return True

class PayPalPayment(PaymentMethod):
    def __init__(self, email, password):
        self.email = email
        self.password = password

    def process_payment(self, amount):
        if self.authenticate():
            print(f"Processing PayPal payment of ${amount}")
        else:
            print("PayPal authentication failed.")

    def issue_refund(self, amount):
        print(f"Issuing PayPal refund of ${amount}")

    def authenticate(self):
        return True

class BankTransferPayment(PaymentMethod):
    def __init__(self, account_number, sort_code):
        self.account_number = account_number
        self.sort_code = sort_code

    def process_payment(self, amount):
        print(f"Processing bank transfer of ${amount}")

    def issue_refund(self, amount):
        print(f"Issuing bank transfer refund of ${amount}")

# User-defined input usage
def main():
    print("Select Payment Method:")
    print("1. Credit Card")
    print("2. PayPal")
    print("3. Bank Transfer")
    choice = input("Enter choice (1/2/3): ")

    if choice == "1":
        card_number = input("Enter Credit Card Number: ")
        expiry_date = input("Enter Expiry Date (MM/YY): ")
        cvv = input("Enter CVV: ")
        amount = float(input("Enter Payment Amount: "))
        credit_card_payment = CreditCardPayment(card_number, expiry_date, cvv)
        credit_card_payment.process_payment(amount)
        refund_choice = input("Would you like to issue a refund? (y/n): ")
        if refund_choice.lower() == 'y':
            refund_amount = float(input("Enter Refund Amount: "))
            credit_card_payment.issue_refund(refund_amount)

    elif choice == "2":
        email = input("Enter PayPal Email: ")
        password = input("Enter PayPal Password: ")
        amount = float(input("Enter Payment Amount: "))
        paypal_payment = PayPalPayment(email, password)
        paypal_payment.process_payment(amount)
        refund_choice = input("Would you like to issue a refund? (y/n): ")
        if refund_choice.lower() == 'y':
            refund_amount = float(input("Enter Refund Amount: "))
            paypal_payment.issue_refund(refund_amount)

    elif choice == "3":
        account_number = input("Enter Bank Account Number: ")
        sort_code = input("Enter Sort Code: ")
        amount = float(input("Enter Payment Amount: "))
        bank_transfer_payment = BankTransferPayment(account_number, sort_code)
        bank_transfer_payment.process_payment(amount)
        refund_choice = input("Would you like to issue a refund? (y/n): ")
        if refund_choice.lower() == 'y':
            refund_amount = float(input("Enter Refund Amount: "))
            bank_transfer_payment.issue_refund(refund_amount)

    else:
        print("Invalid choice, please try again.")

if __name__ == "__main__":
    main()
