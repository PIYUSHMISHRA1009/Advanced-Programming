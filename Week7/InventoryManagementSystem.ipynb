class Product:
    def __init__(self, name, price, quantity, sku):
        self.name = name
        self.price = price
        self.quantity = quantity
        self.sku = sku

    def calculate_value(self):
        return self.price * self.quantity

    def is_low_stock(self, threshold=5):
        return self.quantity < threshold


class Electronics(Product):
    def __init__(self, name, price, quantity, sku, warranty_period, brand):
        super().__init__(name, price, quantity, sku)
        self.warranty_period = warranty_period
        self.brand = brand


class Clothing(Product):
    def __init__(self, name, price, quantity, sku, size, material):
        super().__init__(name, price, quantity, sku)
        self.size = size
        self.material = material


class Groceries(Product):
    def __init__(self, name, price, quantity, sku, expiration_date, organic_status):
        super().__init__(name, price, quantity, sku)
        self.expiration_date = expiration_date
        self.organic_status = organic_status


class Inventory:
    def __init__(self):
        self.products = {}

    def add_product(self, product):
        if product.sku in self.products:
            print("Product with this SKU already exists.")
        else:
            self.products[product.sku] = product
            print(f"Added {product.name} to inventory.")

    def update_stock(self, sku, quantity):
        if sku in self.products:
            self.products[sku].quantity += quantity
            print(f"Updated stock for {sku}. New quantity: {self.products[sku].quantity}.")
        else:
            print("Product not found.")

    def calculate_total_value(self):
        total_value = sum(product.calculate_value() for product in self.products.values())
        return total_value

    def apply_discount(self, sku, discount_percentage):
        if sku in self.products:
            product = self.products[sku]
            discount_amount = product.price * (discount_percentage / 100)
            product.price -= discount_amount
            print(f"Applied discount to {product.name}. New price: {product.price:.2f}.")
        else:
            print("Product not found.")

    def check_low_stock(self):
        low_stock_products = [product for product in self.products.values() if product.is_low_stock()]
        return low_stock_products


# Example Usage with user-defined input
if __name__ == "__main__":
    inventory = Inventory()

    while True:
        print("\n1. Add Product")
        print("2. Update Stock")
        print("3. Calculate Total Inventory Value")
        print("4. Apply Discount")
        print("5. Check Low Stock Items")
        print("6. Exit")
        choice = input("Enter your choice: ")

        if choice == "1":
            print("\nSelect Product Type:")
            print("1. Electronics")
            print("2. Clothing")
            print("3. Groceries")
            product_type = input("Enter choice (1/2/3): ")

            name = input("Enter product name: ")
            price = float(input("Enter product price: "))
            quantity = int(input("Enter product quantity: "))
            sku = input("Enter SKU: ")

            if product_type == "1":
                warranty_period = input("Enter warranty period: ")
                brand = input("Enter brand: ")
                product = Electronics(name, price, quantity, sku, warranty_period, brand)
                inventory.add_product(product)
            elif product_type == "2":
                size = input("Enter size: ")
                material = input("Enter material: ")
                product = Clothing(name, price, quantity, sku, size, material)
                inventory.add_product(product)
            elif product_type == "3":
                expiration_date = input("Enter expiration date (YYYY-MM-DD): ")
                organic_status = input("Is it organic? (yes/no): ").lower() == "yes"
                product = Groceries(name, price, quantity, sku, expiration_date, organic_status)
                inventory.add_product(product)
            else:
                print("Invalid product type.")

        elif choice == "2":
            sku = input("Enter SKU of the product to update stock: ")
            quantity = int(input("Enter quantity to add: "))
            inventory.update_stock(sku, quantity)

        elif choice == "3":
            total_value = inventory.calculate_total_value()
            print(f"Total inventory value: ${total_value:.2f}")

        elif choice == "4":
            sku = input("Enter SKU of the product to apply discount: ")
            discount_percentage = float(input("Enter discount percentage: "))
            inventory.apply_discount(sku, discount_percentage)

        elif choice == "5":
            low_stock_items = inventory.check_low_stock()
            if low_stock_items:
                print("Low stock items:")
                for item in low_stock_items:
                    print(f"{item.name} (Quantity: {item.quantity})")
            else:
                print("No low stock items.")

        elif choice == "6":
            break

        else:
            print("Invalid choice, please try again.")
