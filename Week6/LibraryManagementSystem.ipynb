{
 "cells": [
  {
   "cell_type": "code",
   "execution_count": 1,
   "id": "40bed2da",
   "metadata": {},
   "outputs": [],
   "source": [
    "class Book:\n",
    "    def __init__(self, title, author, isbn):\n",
    "        self.title = title\n",
    "        self.author = author\n",
    "        self.isbn = isbn\n",
    "\n",
    "class EBook(Book):\n",
    "    def __init__(self, title, author, isbn, file_format):\n",
    "        super().__init__(title, author, isbn)\n",
    "        self.file_format = file_format\n",
    "\n",
    "class PrintedBook(Book):\n",
    "    def __init__(self, title, author, isbn, page_count):\n",
    "        super().__init__(title, author, isbn)\n",
    "        self.page_count = page_count"
   ]
  },
  {
   "cell_type": "code",
   "execution_count": 2,
   "id": "f043497c",
   "metadata": {},
   "outputs": [],
   "source": [
    "class Member:\n",
    "    def __init__(self, name, member_id):\n",
    "        self.name = name\n",
    "        self.member_id = member_id\n",
    "\n",
    "class Student(Member):\n",
    "    pass\n",
    "\n",
    "class Teacher(Member):\n",
    "    pass\n",
    "\n",
    "class Librarian(Student, Teacher):\n",
    "    pass"
   ]
  },
  {
   "cell_type": "code",
   "execution_count": 3,
   "id": "f252f376",
   "metadata": {},
   "outputs": [],
   "source": [
    "class Library:\n",
    "    def __init__(self):\n",
    "        self.books = []\n",
    "\n",
    "    def add_book(self, book):\n",
    "        self.books.append(book)\n",
    "\n",
    "    def remove_book(self, isbn):\n",
    "        for book in self.books:\n",
    "            if book.isbn == isbn:\n",
    "                self.books.remove(book)\n",
    "                print(f\"Book with ISBN {isbn} removed successfully.\")\n",
    "                return\n",
    "        print(f\"Book with ISBN {isbn} not found.\")\n",
    "\n",
    "    def search_book(self, keyword):\n",
    "        results = []\n",
    "        for book in self.books:\n",
    "            if keyword in book.title or keyword in book.author:\n",
    "                results.append(book)\n",
    "        return results"
   ]
  },
  {
   "cell_type": "code",
   "execution_count": null,
   "id": "30e5aa89",
   "metadata": {},
   "outputs": [
    {
     "name": "stdout",
     "output_type": "stream",
     "text": [
      "Library Management System\n",
      "1. Add Book\n",
      "2. Remove Book\n",
      "3. Search Book\n",
      "4. Exit\n",
      "Enter your choice: 3\n",
      "Enter keyword to search: The 5 Am Club\n",
      "No books found.\n",
      "Library Management System\n",
      "1. Add Book\n",
      "2. Remove Book\n",
      "3. Search Book\n",
      "4. Exit\n"
     ]
    }
   ],
   "source": [
    "def main():\n",
    "    library = Library()\n",
    "\n",
    "    while True:\n",
    "        print(\"Library Management System\")\n",
    "        print(\"1. Add Book\")\n",
    "        print(\"2. Remove Book\")\n",
    "        print(\"3. Search Book\")\n",
    "        print(\"4. Exit\")\n",
    "\n",
    "        choice = input(\"Enter your choice: \")\n",
    "\n",
    "        if choice == \"1\":\n",
    "            title = input(\"Enter book title: \")\n",
    "            author = input(\"Enter book author: \")\n",
    "            isbn = input(\"Enter book ISBN: \")\n",
    "            book_type = input(\"Enter book type (EBook or PrintedBook): \")\n",
    "\n",
    "            if book_type == \"EBook\":\n",
    "                file_format = input(\"Enter file format: \")\n",
    "                book = EBook(title, author, isbn, file_format)\n",
    "            elif book_type == \"PrintedBook\":\n",
    "                page_count = int(input(\"Enter page count: \"))\n",
    "                book = PrintedBook(title, author, isbn, page_count)\n",
    "\n",
    "            library.add_book(book)\n",
    "            print(\"Book added successfully.\")\n",
    "\n",
    "        elif choice == \"2\":\n",
    "            isbn = input(\"Enter ISBN of book to remove: \")\n",
    "            library.remove_book(isbn)\n",
    "\n",
    "        elif choice == \"3\":\n",
    "            keyword = input(\"Enter keyword to search: \")\n",
    "            results = library.search_book(keyword)\n",
    "\n",
    "            if results:\n",
    "                print(\"Search results:\")\n",
    "                for book in results:\n",
    "                    print(f\"Title: {book.title}, Author: {book.author}, ISBN: {book.isbn}\")\n",
    "            else:\n",
    "                print(\"No books found.\")\n",
    "\n",
    "        elif choice == \"4\":\n",
    "            break\n",
    "\n",
    "        else:\n",
    "            print(\"Invalid choice. Please try again.\")\n",
    "\n",
    "if __name__ == \"__main__\":\n",
    "    main()"
   ]
  },
  {
   "cell_type": "code",
   "execution_count": null,
   "id": "bcfc13f2",
   "metadata": {},
   "outputs": [],
   "source": []
  }
 ],
 "metadata": {
  "kernelspec": {
   "display_name": "Python 3 (ipykernel)",
   "language": "python",
   "name": "python3"
  },
  "language_info": {
   "codemirror_mode": {
    "name": "ipython",
    "version": 3
   },
   "file_extension": ".py",
   "mimetype": "text/x-python",
   "name": "python",
   "nbconvert_exporter": "python",
   "pygments_lexer": "ipython3",
   "version": "3.9.13"
  }
 },
 "nbformat": 4,
 "nbformat_minor": 5
}
