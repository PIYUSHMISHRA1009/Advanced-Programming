{
 "cells": [
  {
   "cell_type": "code",
   "execution_count": 7,
   "id": "8a462248",
   "metadata": {},
   "outputs": [],
   "source": [
    "class Product:\n",
    "    def __init__(self, name, price):\n",
    "        self.name = name\n",
    "        self.price = price\n",
    "\n",
    "    def calculate_discount(self):\n",
    "        return self.price * 0.1  # 10% discount as a placeholder\n",
    "\n",
    "class Electronics(Product):\n",
    "    def calculate_discount(self):\n",
    "        return self.price * 0.15  # 15% discount for Electronics\n",
    "\n",
    "class Clothing(Product):\n",
    "    def calculate_discount(self):\n",
    "        return self.price * 0.05  # 5% discount for Clothing"
   ]
  },
  {
   "cell_type": "code",
   "execution_count": 8,
   "id": "ef53d7e6",
   "metadata": {},
   "outputs": [],
   "source": [
    "class ShoppingCart:\n",
    "    def __init__(self, products=None):\n",
    "        self.products = products or []\n",
    "\n",
    "    def add_product(self, product):\n",
    "        self.products.append(product)\n",
    "\n",
    "    def calculate_total(self):\n",
    "        total = sum(product.price for product in self.products)\n",
    "        discount = sum(product.calculate_discount() for product in self.products)\n",
    "        return total - discount\n",
    "\n",
    "    def __add__(self, other):\n",
    "        combined_cart = ShoppingCart()\n",
    "        combined_cart.products = self.products + other.products\n",
    "        return combined_cart"
   ]
  },
  {
   "cell_type": "code",
   "execution_count": 9,
   "id": "3e1bac59",
   "metadata": {},
   "outputs": [],
   "source": [
    "class PaymentProcessor:\n",
    "    def process_payment(self, payment_method, *args, **kwargs):\n",
    "        if payment_method == \"credit_card\":\n",
    "            self.process_credit_card_payment(*args, **kwargs)\n",
    "        elif payment_method == \"paypal\":\n",
    "            self.process_paypal_payment(*args, **kwargs)\n",
    "        else:\n",
    "            raise ValueError(f\"Unsupported payment method: {payment_method}\")\n",
    "\n",
    "    def process_credit_card_payment(self, amount, card_number, expiration_date, cvv):\n",
    "        # Implement credit card payment processing\n",
    "        pass\n",
    "\n",
    "    def process_paypal_payment(self, amount, paypal_email, paypal_password):\n",
    "        # Implement PayPal payment processing\n",
    "        pass"
   ]
  },
  {
   "cell_type": "code",
   "execution_count": 10,
   "id": "07900cb5",
   "metadata": {},
   "outputs": [
    {
     "name": "stdout",
     "output_type": "stream",
     "text": [
      "Cart 1 total: 444.0\n",
      "Cart 2 total: 425.0\n",
      "Merged cart total: 869.0\n"
     ]
    }
   ],
   "source": [
    "def main():\n",
    "    electronics = Electronics(\"Smartphone\", 500)\n",
    "    clothing = Clothing(\"T-Shirt\", 20)\n",
    "\n",
    "    cart1 = ShoppingCart()\n",
    "    cart1.add_product(electronics)\n",
    "    cart1.add_product(clothing)\n",
    "\n",
    "    cart2 = ShoppingCart()\n",
    "    cart2.add_product(electronics)\n",
    "\n",
    "    print(\"Cart 1 total:\", cart1.calculate_total())\n",
    "    print(\"Cart 2 total:\", cart2.calculate_total())\n",
    "\n",
    "    merged_cart = cart1 + cart2\n",
    "    print(\"Merged cart total:\", merged_cart.calculate_total())\n",
    "\n",
    "    payment_processor = PaymentProcessor()\n",
    "    payment_processor.process_payment(\"credit_card\", 500, \"1234567890123456\", \"123\", \"2025\")\n",
    "    payment_processor.process_payment(\"paypal\", 500, \"john.doe@example.com\", \"secret_password\")\n",
    "\n",
    "if __name__ == \"__main__\":\n",
    "    main()"
   ]
  },
  {
   "cell_type": "code",
   "execution_count": null,
   "id": "261482ee",
   "metadata": {},
   "outputs": [],
   "source": []
  }
 ],
 "metadata": {
  "kernelspec": {
   "display_name": "Python 3 (ipykernel)",
   "language": "python",
   "name": "python3"
  },
  "language_info": {
   "codemirror_mode": {
    "name": "ipython",
    "version": 3
   },
   "file_extension": ".py",
   "mimetype": "text/x-python",
   "name": "python",
   "nbconvert_exporter": "python",
   "pygments_lexer": "ipython3",
   "version": "3.9.13"
  }
 },
 "nbformat": 4,
 "nbformat_minor": 5
}
