import pandas as pd
import numpy as np

np.random.seed(0)

data = {
    "Date": pd.date_range(start="2023-01-01", periods=20, freq='D'),
    "Product Name": np.random.choice(['Product A', 'Product B', 'Product C'], 20),
    "Units Sold": np.random.randint(1, 10, size=20),
    "Revenue": np.random.uniform(100, 1000, size=20).round(2),
    "Region": np.random.choice(['North', 'South', 'East', 'West'], 20),
    "Discount Offered (%)": np.random.randint(0, 30, size=20),
    "Salesperson": np.random.choice(['Alice', 'Bob', 'Charlie', 'David'], 20)
}

sales_data = pd.DataFrame(data)
sales_data['Revenue After Discount'] = sales_data['Revenue'] * (1 - sales_data['Discount Offered (%)'] / 100)

top_revenue_transactions = sales_data.nlargest(3, 'Revenue')
units_sold_per_product = sales_data.groupby('Product Name')['Units Sold'].sum()
total_revenue_after_discount = sales_data['Revenue After Discount'].sum()
max_discount_transaction = sales_data.loc[sales_data['Discount Offered (%)'].idxmax()]
highest_revenue_salesperson = sales_data.groupby('Salesperson')['Revenue'].sum().idxmax()
average_discount_per_salesperson = sales_data.groupby('Salesperson')['Discount Offered (%)'].mean()
revenue_per_region = sales_data.groupby('Region')['Revenue'].sum()
alice_sales = sales_data[sales_data['Salesperson'] == 'Alice']
region_highest_alice = alice_sales.groupby('Region')['Revenue'].sum().idxmax()
sales_data['Revenue Per Unit'] = sales_data['Revenue'] / sales_data['Units Sold'].replace(0, np.nan)
highest_revenue_per_unit_product = sales_data.loc[sales_data['Revenue Per Unit'].idxmax()]
high_performance_transactions_count = (sales_data['Revenue'] > 500).sum()
north_no_discount_sales = sales_data[(sales_data['Region'] == 'North') & (sales_data['Discount Offered (%)'] == 0)]
top_north_salesperson_no_discount = north_no_discount_sales.groupby('Salesperson')['Units Sold'].sum().idxmax()
average_revenue_per_unit_region_product = sales_data.groupby(['Region', 'Product Name']).apply(
    lambda x: (x['Revenue'] / x['Units Sold'].replace(0, np.nan)).mean()
)
average_revenue_after_discount = sales_data.groupby('Salesperson')['Revenue After Discount'].mean()
highest_avg_revenue_salesperson = average_revenue_after_discount.idxmax()
sales_data['Cumulative Revenue'] = sales_data.groupby('Salesperson')['Revenue'].cumsum()
top_transactions_per_salesperson = sales_data.sort_values('Revenue', ascending=False).groupby('Salesperson').head(2)
cumulative_revenue_product_over_time = sales_data.groupby(['Date', 'Product Name'])['Revenue'].sum().groupby(level=1).cumsum()
avg_revenue_with_discount = sales_data[sales_data['Discount Offered (%)'] > 0].groupby('Product Name')['Revenue After Discount'].mean()
avg_revenue_without_discount = sales_data[sales_data['Discount Offered (%)'] == 0].groupby('Product Name')['Revenue'].mean()
discount_impact_analysis = pd.DataFrame({
    'Avg Revenue With Discount': avg_revenue_with_discount,
    'Avg Revenue Without Discount': avg_revenue_without_discount
}).fillna(0)
weighted_average_discount = (sales_data['Discount Offered (%)'] * sales_data['Revenue']).groupby(sales_data['Salesperson']).sum() / sales_data.groupby('Salesperson')['Revenue'].sum()
total_revenue = sales_data['Revenue'].sum()
percentage_revenue_by_region = (revenue_per_region / total_revenue) * 100
comparison_total_revenue_per_region = pd.DataFrame({
    'Total Revenue': revenue_per_region,
    'Percentage of Total Revenue': percentage_revenue_by_region
})

print("Top 3 Sales Transactions by Revenue:\n", top_revenue_transactions)
print("\nUnits Sold for Each Product:\n", units_sold_per_product)
print("\nTotal Revenue After Discounts:", total_revenue_after_discount)
print("\nTransaction with Highest Discount Offered:\n", max_discount_transaction)
print("\nSalesperson with Highest Total Revenue:", highest_revenue_salesperson)
print("\nAverage Discount Offered by Each Salesperson:\n", average_discount_per_salesperson)
print("\nRevenue Generated in Each Region:\n", revenue_per_region)
print("\nRegion where Alice Generated Highest Sales:", region_highest_alice)
print("\nProduct with Highest Revenue Per Unit Sold:\n", highest_revenue_per_unit_product[['Product Name', 'Revenue Per Unit']])
print("\nNumber of High Performance Transactions:", high_performance_transactions_count)
print("\nSalesperson in North Region with Most Units Sold (No Discount):", top_north_salesperson_no_discount)
print("\nAverage Revenue Per Unit Sold in Each Region for Each Product:\n", average_revenue_per_unit_region_product)
print("\nSalesperson with Highest Average Revenue After Discounts:", highest_avg_revenue_salesperson)
print("\nCumulative Total Revenue Over Time for Each Salesperson:\n", sales_data[['Date', 'Salesperson', 'Cumulative Revenue']])
print("\nTop 2 Transactions for Each Salesperson:\n", top_transactions_per_salesperson)
print("\nCumulative Revenue Over Time for Each Product:\n", cumulative_revenue_product_over_time)
print("\nAverage Revenue With vs Without Discount:\n", discount_impact_analysis)
print("\nWeighted Average Discount Offered by Each Salesperson:\n", weighted_average_discount)
print("\nPercentage of Total Revenue by Region:\n", comparison_total_revenue_per_region)
