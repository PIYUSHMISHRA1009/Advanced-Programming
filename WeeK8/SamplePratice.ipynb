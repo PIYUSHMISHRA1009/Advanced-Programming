{
 "cells": [
  {
   "cell_type": "code",
   "execution_count": 14,
   "id": "f2462f33",
   "metadata": {},
   "outputs": [
    {
     "ename": "IndentationError",
     "evalue": "unexpected indent (533963268.py, line 2)",
     "output_type": "error",
     "traceback": [
      "\u001b[1;36m  File \u001b[1;32m\"C:\\Users\\maths\\AppData\\Local\\Temp\\ipykernel_6820\\533963268.py\"\u001b[1;36m, line \u001b[1;32m2\u001b[0m\n\u001b[1;33m    y = test\u001b[0m\n\u001b[1;37m    ^\u001b[0m\n\u001b[1;31mIndentationError\u001b[0m\u001b[1;31m:\u001b[0m unexpected indent\n"
     ]
    }
   ],
   "source": [
    "test = 1/0\n",
    "    y = test"
   ]
  },
  {
   "cell_type": "code",
   "execution_count": 12,
   "id": "5932379a",
   "metadata": {},
   "outputs": [],
   "source": [
    "def fun():\n",
    "    return \"DataCamp\"    "
   ]
  },
  {
   "cell_type": "code",
   "execution_count": 16,
   "id": "4c41a73a",
   "metadata": {},
   "outputs": [
    {
     "name": "stdout",
     "output_type": "stream",
     "text": [
      "You cannot divide a value with zero\n"
     ]
    }
   ],
   "source": [
    "try:\n",
    "   print(1/0)\n",
    "except ZeroDivisionError:\n",
    "   print(\"You cannot divide a value with zero\")\n",
    "except:\n",
    "   print(\"Something else went wrong\")"
   ]
  },
  {
   "cell_type": "code",
   "execution_count": 17,
   "id": "04b6c36e",
   "metadata": {},
   "outputs": [
    {
     "name": "stdout",
     "output_type": "stream",
     "text": [
      "Your answer is 0.3333333333333333\n"
     ]
    }
   ],
   "source": [
    "try:\n",
    "   result = 1/3\n",
    "except ZeroDivisionError as err:\n",
    "   print(err)\n",
    "else:\n",
    "   print(f\"Your answer is {result}\")"
   ]
  },
  {
   "cell_type": "code",
   "execution_count": 28,
   "id": "3e05cad8",
   "metadata": {},
   "outputs": [
    {
     "name": "stdout",
     "output_type": "stream",
     "text": [
      "Your answer is 8\n"
     ]
    }
   ],
   "source": [
    "x = [5, 8, 9, 13]\n",
    "\n",
    "def find_nth_value(x, n):\n",
    "    try:\n",
    "        result = x[n]\n",
    "    except IndexError as err:\n",
    "        print(err)\n",
    "    else:\n",
    "        print(\"Your answer is\", result)\n",
    "\n",
    "find_nth_value(x, 1)\n"
   ]
  },
  {
   "cell_type": "code",
   "execution_count": 32,
   "id": "ee260487",
   "metadata": {},
   "outputs": [
    {
     "name": "stdout",
     "output_type": "stream",
     "text": [
      "Please change 'y' argument to non-zero value\n",
      "\u001b[92m Code by DataCamp\u001b[00m\n"
     ]
    }
   ],
   "source": [
    "def divide(x,y):\n",
    "    try:\n",
    "        result = x/y\n",
    "    except ZeroDivisionError:\n",
    "        print(\"Please change 'y' argument to non-zero value\")\n",
    "    except:\n",
    "        print(\"Something went wrong\")\n",
    "    else:\n",
    "        print(f\"Your answer is {result}\")\n",
    "    finally:\n",
    "        print(\"\\033[92m Code by DataCamp\\033[00m\")\n",
    "\n",
    "divide(1,0)\n"
   ]
  },
  {
   "cell_type": "code",
   "execution_count": null,
   "id": "0878db6a",
   "metadata": {},
   "outputs": [],
   "source": []
  },
  {
   "cell_type": "code",
   "execution_count": null,
   "id": "8f3ae77d",
   "metadata": {},
   "outputs": [],
   "source": []
  }
 ],
 "metadata": {
  "kernelspec": {
   "display_name": "Python 3 (ipykernel)",
   "language": "python",
   "name": "python3"
  },
  "language_info": {
   "codemirror_mode": {
    "name": "ipython",
    "version": 3
   },
   "file_extension": ".py",
   "mimetype": "text/x-python",
   "name": "python",
   "nbconvert_exporter": "python",
   "pygments_lexer": "ipython3",
   "version": "3.9.13"
  }
 },
 "nbformat": 4,
 "nbformat_minor": 5
}
