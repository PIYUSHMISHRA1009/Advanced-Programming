{
 "cells": [
  {
   "cell_type": "markdown",
   "id": "ce1b3b73",
   "metadata": {
    "id": "ce1b3b73"
   },
   "source": [
    "## Cereal Rating Analysis"
   ]
  },
  {
   "cell_type": "markdown",
   "id": "ca985076",
   "metadata": {
    "id": "ca985076"
   },
   "source": [
    "**Meta-Data** of the Cereals Dataset:\n",
    "\n",
    "*   name: cereal name \n",
    "*   mfr: Manufacturers are represented by their first initial: A=American Home Food Products, G=General Mills, K=Kelloggs, N=Nabisco, P=Post, Q=Quaker Oats, R=Ralston Purina)\n",
    "*   type: type (cold/hot)\n",
    "*   calories: calories (number) \n",
    "*   protein: protein(g) \n",
    "*   fat: fat(g) \n",
    "*   sodium: sodium(mg) \n",
    "*   fiber: dietary fiber(g) \n",
    "*   carbo: complex carbohydrates(g) \n",
    "*   sugars: sugars(g) \n",
    "*   shelf: display shelf (1, 2, or 3, counting from the floor) \n",
    "*   potass: potassium(mg) \n",
    "*   vitamins: vitamins & minerals (0, 25, or 100, respectively indicating 'none added'; 'enriched, often to 25% FDA recommended'; '100% of FDA recommended')\n",
    "*   weight: weight (in ounces) of one serving (serving size) \n",
    "*   cups: cups per serving \n",
    "*   rating: health rating of the cereal out of 100"
   ]
  },
  {
   "cell_type": "markdown",
   "id": "b5739dbe",
   "metadata": {
    "id": "b5739dbe"
   },
   "source": [
    "First, we import the libraries:\n",
    "\n",
    "*   NumPy - for data manipulation.\n",
    "*   Pandas - for data manipulation.\n",
    "*   MatPlotLib - for data visualization.\n",
    "*   Seaborn - for data visualization.\n",
    "*   SciPy - for correlation stats."
   ]
  },
  {
   "cell_type": "code",
   "execution_count": 1,
   "id": "2d604014",
   "metadata": {
    "id": "2d604014"
   },
   "outputs": [],
   "source": [
    "# importing the libraries\n",
    "import numpy as np\n",
    "import pandas as pd\n",
    "from matplotlib import pyplot as plt\n",
    "import seaborn as sns\n",
    "from scipy import stats"
   ]
  },
  {
   "cell_type": "markdown",
   "id": "669307aa",
   "metadata": {
    "id": "669307aa"
   },
   "source": [
    "Next, we read the excel file into a Pandas dataframe using the function read_excel() from the Pandas library."
   ]
  },
  {
   "cell_type": "code",
   "execution_count": 3,
   "id": "2846cf98",
   "metadata": {
    "id": "2846cf98"
   },
   "outputs": [],
   "source": [
    "# reading the dataset\n",
    "df = pd.read_excel('Cereals.xls')"
   ]
  },
  {
   "cell_type": "markdown",
   "id": "9a4773d0",
   "metadata": {
    "id": "9a4773d0"
   },
   "source": [
    "After reading the dataset, we view the first few rows of the dataframe using the head() function from the Pandas library."
   ]
  },
  {
   "cell_type": "code",
   "execution_count": 5,
   "id": "896a8a4f",
   "metadata": {
    "colab": {
     "base_uri": "https://localhost:8080/",
     "height": 206
    },
    "id": "896a8a4f",
    "outputId": "8d4e8a17-2c42-4a72-bea6-35e294cde553"
   },
   "outputs": [
    {
     "data": {
      "text/html": [
       "<div>\n",
       "<style scoped>\n",
       "    .dataframe tbody tr th:only-of-type {\n",
       "        vertical-align: middle;\n",
       "    }\n",
       "\n",
       "    .dataframe tbody tr th {\n",
       "        vertical-align: top;\n",
       "    }\n",
       "\n",
       "    .dataframe thead th {\n",
       "        text-align: right;\n",
       "    }\n",
       "</style>\n",
       "<table border=\"1\" class=\"dataframe\">\n",
       "  <thead>\n",
       "    <tr style=\"text-align: right;\">\n",
       "      <th></th>\n",
       "      <th>name</th>\n",
       "      <th>mfr</th>\n",
       "      <th>type</th>\n",
       "      <th>calories</th>\n",
       "      <th>protein</th>\n",
       "      <th>fat</th>\n",
       "      <th>sodium</th>\n",
       "      <th>fiber</th>\n",
       "      <th>carbo</th>\n",
       "      <th>sugars</th>\n",
       "      <th>potass</th>\n",
       "      <th>vitamins</th>\n",
       "      <th>shelf</th>\n",
       "      <th>weight</th>\n",
       "      <th>cups</th>\n",
       "      <th>rating</th>\n",
       "    </tr>\n",
       "  </thead>\n",
       "  <tbody>\n",
       "    <tr>\n",
       "      <th>0</th>\n",
       "      <td>100%_Natural_Bran</td>\n",
       "      <td>Q</td>\n",
       "      <td>C</td>\n",
       "      <td>120</td>\n",
       "      <td>3</td>\n",
       "      <td>5</td>\n",
       "      <td>15</td>\n",
       "      <td>2.0</td>\n",
       "      <td>8.0</td>\n",
       "      <td>8</td>\n",
       "      <td>135</td>\n",
       "      <td>0</td>\n",
       "      <td>3</td>\n",
       "      <td>1.0</td>\n",
       "      <td>1.00</td>\n",
       "      <td>33.983679</td>\n",
       "    </tr>\n",
       "    <tr>\n",
       "      <th>1</th>\n",
       "      <td>All-Bran</td>\n",
       "      <td>K</td>\n",
       "      <td>C</td>\n",
       "      <td>70</td>\n",
       "      <td>4</td>\n",
       "      <td>1</td>\n",
       "      <td>260</td>\n",
       "      <td>9.0</td>\n",
       "      <td>7.0</td>\n",
       "      <td>5</td>\n",
       "      <td>320</td>\n",
       "      <td>25</td>\n",
       "      <td>3</td>\n",
       "      <td>1.0</td>\n",
       "      <td>0.33</td>\n",
       "      <td>59.425505</td>\n",
       "    </tr>\n",
       "    <tr>\n",
       "      <th>2</th>\n",
       "      <td>All-Bran_with_Extra_Fiber</td>\n",
       "      <td>K</td>\n",
       "      <td>C</td>\n",
       "      <td>50</td>\n",
       "      <td>4</td>\n",
       "      <td>0</td>\n",
       "      <td>140</td>\n",
       "      <td>14.0</td>\n",
       "      <td>8.0</td>\n",
       "      <td>0</td>\n",
       "      <td>330</td>\n",
       "      <td>25</td>\n",
       "      <td>3</td>\n",
       "      <td>1.0</td>\n",
       "      <td>0.50</td>\n",
       "      <td>93.704912</td>\n",
       "    </tr>\n",
       "    <tr>\n",
       "      <th>3</th>\n",
       "      <td>Almond_Delight</td>\n",
       "      <td>R</td>\n",
       "      <td>C</td>\n",
       "      <td>110</td>\n",
       "      <td>2</td>\n",
       "      <td>2</td>\n",
       "      <td>200</td>\n",
       "      <td>1.0</td>\n",
       "      <td>14.0</td>\n",
       "      <td>8</td>\n",
       "      <td>-1</td>\n",
       "      <td>25</td>\n",
       "      <td>3</td>\n",
       "      <td>1.0</td>\n",
       "      <td>0.75</td>\n",
       "      <td>34.384843</td>\n",
       "    </tr>\n",
       "    <tr>\n",
       "      <th>4</th>\n",
       "      <td>Apple_Cinnamon_Cheerios</td>\n",
       "      <td>G</td>\n",
       "      <td>C</td>\n",
       "      <td>110</td>\n",
       "      <td>2</td>\n",
       "      <td>2</td>\n",
       "      <td>180</td>\n",
       "      <td>1.5</td>\n",
       "      <td>10.5</td>\n",
       "      <td>10</td>\n",
       "      <td>70</td>\n",
       "      <td>25</td>\n",
       "      <td>1</td>\n",
       "      <td>1.0</td>\n",
       "      <td>0.75</td>\n",
       "      <td>29.509541</td>\n",
       "    </tr>\n",
       "  </tbody>\n",
       "</table>\n",
       "</div>"
      ],
      "text/plain": [
       "                        name mfr type  calories  protein  fat  sodium  fiber  \\\n",
       "0          100%_Natural_Bran   Q    C       120        3    5      15    2.0   \n",
       "1                   All-Bran   K    C        70        4    1     260    9.0   \n",
       "2  All-Bran_with_Extra_Fiber   K    C        50        4    0     140   14.0   \n",
       "3             Almond_Delight   R    C       110        2    2     200    1.0   \n",
       "4    Apple_Cinnamon_Cheerios   G    C       110        2    2     180    1.5   \n",
       "\n",
       "   carbo  sugars  potass  vitamins  shelf  weight  cups     rating  \n",
       "0    8.0       8     135         0      3     1.0  1.00  33.983679  \n",
       "1    7.0       5     320        25      3     1.0  0.33  59.425505  \n",
       "2    8.0       0     330        25      3     1.0  0.50  93.704912  \n",
       "3   14.0       8      -1        25      3     1.0  0.75  34.384843  \n",
       "4   10.5      10      70        25      1     1.0  0.75  29.509541  "
      ]
     },
     "execution_count": 5,
     "metadata": {},
     "output_type": "execute_result"
    }
   ],
   "source": [
    "# viewing the first few rows of the dataset\n",
    "# the head() function displays the first 5 rows of the dataframe\n",
    "df.head()"
   ]
  },
  {
   "cell_type": "markdown",
   "id": "143378e4",
   "metadata": {
    "id": "143378e4"
   },
   "source": [
    "Now, we start answering the lab questions."
   ]
  },
  {
   "cell_type": "markdown",
   "id": "e14fe988",
   "metadata": {
    "id": "e14fe988"
   },
   "source": [
    "#### **Q1.** Create a table with the 5-number summary of all the nutrients."
   ]
  },
  {
   "cell_type": "markdown",
   "id": "2QstPT6A4n2J",
   "metadata": {
    "id": "2QstPT6A4n2J"
   },
   "source": [
    "To solve Question 1, we use the describe() function from the Pandas library on the columns protein, fat, carbo, vitamins, sodium, sugars, potass and fiber. "
   ]
  },
  {
   "cell_type": "code",
   "execution_count": 7,
   "id": "773dc5ca",
   "metadata": {
    "colab": {
     "base_uri": "https://localhost:8080/",
     "height": 300
    },
    "id": "773dc5ca",
    "outputId": "d2d4e17b-dcf0-4021-95c8-d37c08ccbe97"
   },
   "outputs": [
    {
     "data": {
      "text/html": [
       "<div>\n",
       "<style scoped>\n",
       "    .dataframe tbody tr th:only-of-type {\n",
       "        vertical-align: middle;\n",
       "    }\n",
       "\n",
       "    .dataframe tbody tr th {\n",
       "        vertical-align: top;\n",
       "    }\n",
       "\n",
       "    .dataframe thead th {\n",
       "        text-align: right;\n",
       "    }\n",
       "</style>\n",
       "<table border=\"1\" class=\"dataframe\">\n",
       "  <thead>\n",
       "    <tr style=\"text-align: right;\">\n",
       "      <th></th>\n",
       "      <th>protein</th>\n",
       "      <th>fat</th>\n",
       "      <th>carbo</th>\n",
       "      <th>vitamins</th>\n",
       "      <th>sodium</th>\n",
       "      <th>sugars</th>\n",
       "      <th>potass</th>\n",
       "      <th>fiber</th>\n",
       "    </tr>\n",
       "  </thead>\n",
       "  <tbody>\n",
       "    <tr>\n",
       "      <th>count</th>\n",
       "      <td>76.000000</td>\n",
       "      <td>76.000000</td>\n",
       "      <td>76.000000</td>\n",
       "      <td>76.000000</td>\n",
       "      <td>76.000000</td>\n",
       "      <td>76.000000</td>\n",
       "      <td>76.000000</td>\n",
       "      <td>76.000000</td>\n",
       "    </tr>\n",
       "    <tr>\n",
       "      <th>mean</th>\n",
       "      <td>2.526316</td>\n",
       "      <td>1.013158</td>\n",
       "      <td>14.723684</td>\n",
       "      <td>28.289474</td>\n",
       "      <td>160.065789</td>\n",
       "      <td>6.934211</td>\n",
       "      <td>93.657895</td>\n",
       "      <td>2.048684</td>\n",
       "    </tr>\n",
       "    <tr>\n",
       "      <th>std</th>\n",
       "      <td>1.089020</td>\n",
       "      <td>1.013159</td>\n",
       "      <td>4.160444</td>\n",
       "      <td>22.487813</td>\n",
       "      <td>84.318813</td>\n",
       "      <td>4.473136</td>\n",
       "      <td>68.502565</td>\n",
       "      <td>2.219038</td>\n",
       "    </tr>\n",
       "    <tr>\n",
       "      <th>min</th>\n",
       "      <td>1.000000</td>\n",
       "      <td>0.000000</td>\n",
       "      <td>-1.000000</td>\n",
       "      <td>0.000000</td>\n",
       "      <td>0.000000</td>\n",
       "      <td>-1.000000</td>\n",
       "      <td>-1.000000</td>\n",
       "      <td>0.000000</td>\n",
       "    </tr>\n",
       "    <tr>\n",
       "      <th>25%</th>\n",
       "      <td>2.000000</td>\n",
       "      <td>0.000000</td>\n",
       "      <td>12.000000</td>\n",
       "      <td>25.000000</td>\n",
       "      <td>132.500000</td>\n",
       "      <td>3.000000</td>\n",
       "      <td>40.000000</td>\n",
       "      <td>0.750000</td>\n",
       "    </tr>\n",
       "    <tr>\n",
       "      <th>50%</th>\n",
       "      <td>2.500000</td>\n",
       "      <td>1.000000</td>\n",
       "      <td>14.500000</td>\n",
       "      <td>25.000000</td>\n",
       "      <td>180.000000</td>\n",
       "      <td>7.000000</td>\n",
       "      <td>90.000000</td>\n",
       "      <td>1.750000</td>\n",
       "    </tr>\n",
       "    <tr>\n",
       "      <th>75%</th>\n",
       "      <td>3.000000</td>\n",
       "      <td>2.000000</td>\n",
       "      <td>17.000000</td>\n",
       "      <td>25.000000</td>\n",
       "      <td>212.500000</td>\n",
       "      <td>11.000000</td>\n",
       "      <td>120.000000</td>\n",
       "      <td>3.000000</td>\n",
       "    </tr>\n",
       "    <tr>\n",
       "      <th>max</th>\n",
       "      <td>6.000000</td>\n",
       "      <td>5.000000</td>\n",
       "      <td>23.000000</td>\n",
       "      <td>100.000000</td>\n",
       "      <td>320.000000</td>\n",
       "      <td>15.000000</td>\n",
       "      <td>330.000000</td>\n",
       "      <td>14.000000</td>\n",
       "    </tr>\n",
       "  </tbody>\n",
       "</table>\n",
       "</div>"
      ],
      "text/plain": [
       "         protein        fat      carbo    vitamins      sodium     sugars  \\\n",
       "count  76.000000  76.000000  76.000000   76.000000   76.000000  76.000000   \n",
       "mean    2.526316   1.013158  14.723684   28.289474  160.065789   6.934211   \n",
       "std     1.089020   1.013159   4.160444   22.487813   84.318813   4.473136   \n",
       "min     1.000000   0.000000  -1.000000    0.000000    0.000000  -1.000000   \n",
       "25%     2.000000   0.000000  12.000000   25.000000  132.500000   3.000000   \n",
       "50%     2.500000   1.000000  14.500000   25.000000  180.000000   7.000000   \n",
       "75%     3.000000   2.000000  17.000000   25.000000  212.500000  11.000000   \n",
       "max     6.000000   5.000000  23.000000  100.000000  320.000000  15.000000   \n",
       "\n",
       "           potass      fiber  \n",
       "count   76.000000  76.000000  \n",
       "mean    93.657895   2.048684  \n",
       "std     68.502565   2.219038  \n",
       "min     -1.000000   0.000000  \n",
       "25%     40.000000   0.750000  \n",
       "50%     90.000000   1.750000  \n",
       "75%    120.000000   3.000000  \n",
       "max    330.000000  14.000000  "
      ]
     },
     "execution_count": 7,
     "metadata": {},
     "output_type": "execute_result"
    }
   ],
   "source": [
    "# selecting only the nutrients and displaying the five number summary\n",
    "df[['protein', 'fat', 'carbo', 'vitamins', 'sodium', 'sugars', 'potass', 'fiber']].describe()"
   ]
  },
  {
   "cell_type": "code",
   "execution_count": 9,
   "id": "9dac5448-0745-404c-9ecb-53d44a16b752",
   "metadata": {},
   "outputs": [
    {
     "data": {
      "text/html": [
       "<div>\n",
       "<style scoped>\n",
       "    .dataframe tbody tr th:only-of-type {\n",
       "        vertical-align: middle;\n",
       "    }\n",
       "\n",
       "    .dataframe tbody tr th {\n",
       "        vertical-align: top;\n",
       "    }\n",
       "\n",
       "    .dataframe thead th {\n",
       "        text-align: right;\n",
       "    }\n",
       "</style>\n",
       "<table border=\"1\" class=\"dataframe\">\n",
       "  <thead>\n",
       "    <tr style=\"text-align: right;\">\n",
       "      <th></th>\n",
       "      <th>name</th>\n",
       "      <th>mfr</th>\n",
       "      <th>type</th>\n",
       "      <th>calories</th>\n",
       "      <th>protein</th>\n",
       "      <th>fat</th>\n",
       "      <th>sodium</th>\n",
       "      <th>fiber</th>\n",
       "      <th>carbo</th>\n",
       "      <th>sugars</th>\n",
       "      <th>potass</th>\n",
       "      <th>vitamins</th>\n",
       "      <th>shelf</th>\n",
       "      <th>weight</th>\n",
       "      <th>cups</th>\n",
       "      <th>rating</th>\n",
       "    </tr>\n",
       "  </thead>\n",
       "  <tbody>\n",
       "    <tr>\n",
       "      <th>0</th>\n",
       "      <td>100%_Natural_Bran</td>\n",
       "      <td>Q</td>\n",
       "      <td>C</td>\n",
       "      <td>120</td>\n",
       "      <td>3</td>\n",
       "      <td>5</td>\n",
       "      <td>15</td>\n",
       "      <td>2.0</td>\n",
       "      <td>8.0</td>\n",
       "      <td>8.0</td>\n",
       "      <td>135.0</td>\n",
       "      <td>0</td>\n",
       "      <td>3</td>\n",
       "      <td>1.0</td>\n",
       "      <td>1.00</td>\n",
       "      <td>33.983679</td>\n",
       "    </tr>\n",
       "    <tr>\n",
       "      <th>1</th>\n",
       "      <td>All-Bran</td>\n",
       "      <td>K</td>\n",
       "      <td>C</td>\n",
       "      <td>70</td>\n",
       "      <td>4</td>\n",
       "      <td>1</td>\n",
       "      <td>260</td>\n",
       "      <td>9.0</td>\n",
       "      <td>7.0</td>\n",
       "      <td>5.0</td>\n",
       "      <td>320.0</td>\n",
       "      <td>25</td>\n",
       "      <td>3</td>\n",
       "      <td>1.0</td>\n",
       "      <td>0.33</td>\n",
       "      <td>59.425505</td>\n",
       "    </tr>\n",
       "    <tr>\n",
       "      <th>2</th>\n",
       "      <td>All-Bran_with_Extra_Fiber</td>\n",
       "      <td>K</td>\n",
       "      <td>C</td>\n",
       "      <td>50</td>\n",
       "      <td>4</td>\n",
       "      <td>0</td>\n",
       "      <td>140</td>\n",
       "      <td>14.0</td>\n",
       "      <td>8.0</td>\n",
       "      <td>0.0</td>\n",
       "      <td>330.0</td>\n",
       "      <td>25</td>\n",
       "      <td>3</td>\n",
       "      <td>1.0</td>\n",
       "      <td>0.50</td>\n",
       "      <td>93.704912</td>\n",
       "    </tr>\n",
       "    <tr>\n",
       "      <th>3</th>\n",
       "      <td>Almond_Delight</td>\n",
       "      <td>R</td>\n",
       "      <td>C</td>\n",
       "      <td>110</td>\n",
       "      <td>2</td>\n",
       "      <td>2</td>\n",
       "      <td>200</td>\n",
       "      <td>1.0</td>\n",
       "      <td>14.0</td>\n",
       "      <td>8.0</td>\n",
       "      <td>NaN</td>\n",
       "      <td>25</td>\n",
       "      <td>3</td>\n",
       "      <td>1.0</td>\n",
       "      <td>0.75</td>\n",
       "      <td>34.384843</td>\n",
       "    </tr>\n",
       "    <tr>\n",
       "      <th>4</th>\n",
       "      <td>Apple_Cinnamon_Cheerios</td>\n",
       "      <td>G</td>\n",
       "      <td>C</td>\n",
       "      <td>110</td>\n",
       "      <td>2</td>\n",
       "      <td>2</td>\n",
       "      <td>180</td>\n",
       "      <td>1.5</td>\n",
       "      <td>10.5</td>\n",
       "      <td>10.0</td>\n",
       "      <td>70.0</td>\n",
       "      <td>25</td>\n",
       "      <td>1</td>\n",
       "      <td>1.0</td>\n",
       "      <td>0.75</td>\n",
       "      <td>29.509541</td>\n",
       "    </tr>\n",
       "    <tr>\n",
       "      <th>...</th>\n",
       "      <td>...</td>\n",
       "      <td>...</td>\n",
       "      <td>...</td>\n",
       "      <td>...</td>\n",
       "      <td>...</td>\n",
       "      <td>...</td>\n",
       "      <td>...</td>\n",
       "      <td>...</td>\n",
       "      <td>...</td>\n",
       "      <td>...</td>\n",
       "      <td>...</td>\n",
       "      <td>...</td>\n",
       "      <td>...</td>\n",
       "      <td>...</td>\n",
       "      <td>...</td>\n",
       "      <td>...</td>\n",
       "    </tr>\n",
       "    <tr>\n",
       "      <th>71</th>\n",
       "      <td>Triples</td>\n",
       "      <td>G</td>\n",
       "      <td>C</td>\n",
       "      <td>110</td>\n",
       "      <td>2</td>\n",
       "      <td>1</td>\n",
       "      <td>250</td>\n",
       "      <td>0.0</td>\n",
       "      <td>21.0</td>\n",
       "      <td>3.0</td>\n",
       "      <td>60.0</td>\n",
       "      <td>25</td>\n",
       "      <td>3</td>\n",
       "      <td>1.0</td>\n",
       "      <td>0.75</td>\n",
       "      <td>39.106174</td>\n",
       "    </tr>\n",
       "    <tr>\n",
       "      <th>72</th>\n",
       "      <td>Trix</td>\n",
       "      <td>G</td>\n",
       "      <td>C</td>\n",
       "      <td>110</td>\n",
       "      <td>1</td>\n",
       "      <td>1</td>\n",
       "      <td>140</td>\n",
       "      <td>0.0</td>\n",
       "      <td>13.0</td>\n",
       "      <td>12.0</td>\n",
       "      <td>25.0</td>\n",
       "      <td>25</td>\n",
       "      <td>2</td>\n",
       "      <td>1.0</td>\n",
       "      <td>1.00</td>\n",
       "      <td>27.753301</td>\n",
       "    </tr>\n",
       "    <tr>\n",
       "      <th>73</th>\n",
       "      <td>Wheat_Chex</td>\n",
       "      <td>R</td>\n",
       "      <td>C</td>\n",
       "      <td>100</td>\n",
       "      <td>3</td>\n",
       "      <td>1</td>\n",
       "      <td>230</td>\n",
       "      <td>3.0</td>\n",
       "      <td>17.0</td>\n",
       "      <td>3.0</td>\n",
       "      <td>115.0</td>\n",
       "      <td>25</td>\n",
       "      <td>1</td>\n",
       "      <td>1.0</td>\n",
       "      <td>0.67</td>\n",
       "      <td>49.787445</td>\n",
       "    </tr>\n",
       "    <tr>\n",
       "      <th>74</th>\n",
       "      <td>Wheaties</td>\n",
       "      <td>G</td>\n",
       "      <td>C</td>\n",
       "      <td>100</td>\n",
       "      <td>3</td>\n",
       "      <td>1</td>\n",
       "      <td>200</td>\n",
       "      <td>3.0</td>\n",
       "      <td>17.0</td>\n",
       "      <td>3.0</td>\n",
       "      <td>110.0</td>\n",
       "      <td>25</td>\n",
       "      <td>1</td>\n",
       "      <td>1.0</td>\n",
       "      <td>1.00</td>\n",
       "      <td>51.592193</td>\n",
       "    </tr>\n",
       "    <tr>\n",
       "      <th>75</th>\n",
       "      <td>Wheaties_Honey_Gold</td>\n",
       "      <td>G</td>\n",
       "      <td>C</td>\n",
       "      <td>110</td>\n",
       "      <td>2</td>\n",
       "      <td>1</td>\n",
       "      <td>200</td>\n",
       "      <td>1.0</td>\n",
       "      <td>16.0</td>\n",
       "      <td>8.0</td>\n",
       "      <td>60.0</td>\n",
       "      <td>25</td>\n",
       "      <td>1</td>\n",
       "      <td>1.0</td>\n",
       "      <td>0.75</td>\n",
       "      <td>36.187559</td>\n",
       "    </tr>\n",
       "  </tbody>\n",
       "</table>\n",
       "<p>76 rows × 16 columns</p>\n",
       "</div>"
      ],
      "text/plain": [
       "                         name mfr type  calories  protein  fat  sodium  fiber  \\\n",
       "0           100%_Natural_Bran   Q    C       120        3    5      15    2.0   \n",
       "1                    All-Bran   K    C        70        4    1     260    9.0   \n",
       "2   All-Bran_with_Extra_Fiber   K    C        50        4    0     140   14.0   \n",
       "3              Almond_Delight   R    C       110        2    2     200    1.0   \n",
       "4     Apple_Cinnamon_Cheerios   G    C       110        2    2     180    1.5   \n",
       "..                        ...  ..  ...       ...      ...  ...     ...    ...   \n",
       "71                    Triples   G    C       110        2    1     250    0.0   \n",
       "72                       Trix   G    C       110        1    1     140    0.0   \n",
       "73                 Wheat_Chex   R    C       100        3    1     230    3.0   \n",
       "74                   Wheaties   G    C       100        3    1     200    3.0   \n",
       "75        Wheaties_Honey_Gold   G    C       110        2    1     200    1.0   \n",
       "\n",
       "    carbo  sugars  potass  vitamins  shelf  weight  cups     rating  \n",
       "0     8.0     8.0   135.0         0      3     1.0  1.00  33.983679  \n",
       "1     7.0     5.0   320.0        25      3     1.0  0.33  59.425505  \n",
       "2     8.0     0.0   330.0        25      3     1.0  0.50  93.704912  \n",
       "3    14.0     8.0     NaN        25      3     1.0  0.75  34.384843  \n",
       "4    10.5    10.0    70.0        25      1     1.0  0.75  29.509541  \n",
       "..    ...     ...     ...       ...    ...     ...   ...        ...  \n",
       "71   21.0     3.0    60.0        25      3     1.0  0.75  39.106174  \n",
       "72   13.0    12.0    25.0        25      2     1.0  1.00  27.753301  \n",
       "73   17.0     3.0   115.0        25      1     1.0  0.67  49.787445  \n",
       "74   17.0     3.0   110.0        25      1     1.0  1.00  51.592193  \n",
       "75   16.0     8.0    60.0        25      1     1.0  0.75  36.187559  \n",
       "\n",
       "[76 rows x 16 columns]"
      ]
     },
     "execution_count": 9,
     "metadata": {},
     "output_type": "execute_result"
    }
   ],
   "source": [
    "df.replace(-1,np.nan,inplace=True)\n",
    "df"
   ]
  },
  {
   "cell_type": "code",
   "execution_count": 48,
   "id": "aa022fe3-6c48-4293-88c3-78ad10a3bd9e",
   "metadata": {},
   "outputs": [
    {
     "data": {
      "text/html": [
       "<div>\n",
       "<style scoped>\n",
       "    .dataframe tbody tr th:only-of-type {\n",
       "        vertical-align: middle;\n",
       "    }\n",
       "\n",
       "    .dataframe tbody tr th {\n",
       "        vertical-align: top;\n",
       "    }\n",
       "\n",
       "    .dataframe thead th {\n",
       "        text-align: right;\n",
       "    }\n",
       "</style>\n",
       "<table border=\"1\" class=\"dataframe\">\n",
       "  <thead>\n",
       "    <tr style=\"text-align: right;\">\n",
       "      <th></th>\n",
       "      <th>protein</th>\n",
       "      <th>fat</th>\n",
       "      <th>carbo</th>\n",
       "      <th>vitamins</th>\n",
       "      <th>sodium</th>\n",
       "      <th>sugars</th>\n",
       "      <th>potass</th>\n",
       "      <th>fiber</th>\n",
       "    </tr>\n",
       "  </thead>\n",
       "  <tbody>\n",
       "    <tr>\n",
       "      <th>count</th>\n",
       "      <td>76.000000</td>\n",
       "      <td>76.000000</td>\n",
       "      <td>75.000000</td>\n",
       "      <td>76.000000</td>\n",
       "      <td>76.000000</td>\n",
       "      <td>75.000000</td>\n",
       "      <td>74.000000</td>\n",
       "      <td>76.000000</td>\n",
       "    </tr>\n",
       "    <tr>\n",
       "      <th>mean</th>\n",
       "      <td>2.526316</td>\n",
       "      <td>1.013158</td>\n",
       "      <td>14.933333</td>\n",
       "      <td>28.289474</td>\n",
       "      <td>160.065789</td>\n",
       "      <td>7.040000</td>\n",
       "      <td>96.216216</td>\n",
       "      <td>2.048684</td>\n",
       "    </tr>\n",
       "    <tr>\n",
       "      <th>std</th>\n",
       "      <td>1.089020</td>\n",
       "      <td>1.013159</td>\n",
       "      <td>3.762666</td>\n",
       "      <td>22.487813</td>\n",
       "      <td>84.318813</td>\n",
       "      <td>4.406506</td>\n",
       "      <td>67.594737</td>\n",
       "      <td>2.219038</td>\n",
       "    </tr>\n",
       "    <tr>\n",
       "      <th>min</th>\n",
       "      <td>1.000000</td>\n",
       "      <td>0.000000</td>\n",
       "      <td>7.000000</td>\n",
       "      <td>0.000000</td>\n",
       "      <td>0.000000</td>\n",
       "      <td>0.000000</td>\n",
       "      <td>15.000000</td>\n",
       "      <td>0.000000</td>\n",
       "    </tr>\n",
       "    <tr>\n",
       "      <th>25%</th>\n",
       "      <td>2.000000</td>\n",
       "      <td>0.000000</td>\n",
       "      <td>12.000000</td>\n",
       "      <td>25.000000</td>\n",
       "      <td>132.500000</td>\n",
       "      <td>3.000000</td>\n",
       "      <td>41.250000</td>\n",
       "      <td>0.750000</td>\n",
       "    </tr>\n",
       "    <tr>\n",
       "      <th>50%</th>\n",
       "      <td>2.500000</td>\n",
       "      <td>1.000000</td>\n",
       "      <td>15.000000</td>\n",
       "      <td>25.000000</td>\n",
       "      <td>180.000000</td>\n",
       "      <td>7.000000</td>\n",
       "      <td>90.000000</td>\n",
       "      <td>1.750000</td>\n",
       "    </tr>\n",
       "    <tr>\n",
       "      <th>75%</th>\n",
       "      <td>3.000000</td>\n",
       "      <td>2.000000</td>\n",
       "      <td>17.000000</td>\n",
       "      <td>25.000000</td>\n",
       "      <td>212.500000</td>\n",
       "      <td>11.000000</td>\n",
       "      <td>120.000000</td>\n",
       "      <td>3.000000</td>\n",
       "    </tr>\n",
       "    <tr>\n",
       "      <th>max</th>\n",
       "      <td>6.000000</td>\n",
       "      <td>5.000000</td>\n",
       "      <td>23.000000</td>\n",
       "      <td>100.000000</td>\n",
       "      <td>320.000000</td>\n",
       "      <td>15.000000</td>\n",
       "      <td>330.000000</td>\n",
       "      <td>14.000000</td>\n",
       "    </tr>\n",
       "  </tbody>\n",
       "</table>\n",
       "</div>"
      ],
      "text/plain": [
       "         protein        fat      carbo    vitamins      sodium     sugars  \\\n",
       "count  76.000000  76.000000  75.000000   76.000000   76.000000  75.000000   \n",
       "mean    2.526316   1.013158  14.933333   28.289474  160.065789   7.040000   \n",
       "std     1.089020   1.013159   3.762666   22.487813   84.318813   4.406506   \n",
       "min     1.000000   0.000000   7.000000    0.000000    0.000000   0.000000   \n",
       "25%     2.000000   0.000000  12.000000   25.000000  132.500000   3.000000   \n",
       "50%     2.500000   1.000000  15.000000   25.000000  180.000000   7.000000   \n",
       "75%     3.000000   2.000000  17.000000   25.000000  212.500000  11.000000   \n",
       "max     6.000000   5.000000  23.000000  100.000000  320.000000  15.000000   \n",
       "\n",
       "           potass      fiber  \n",
       "count   74.000000  76.000000  \n",
       "mean    96.216216   2.048684  \n",
       "std     67.594737   2.219038  \n",
       "min     15.000000   0.000000  \n",
       "25%     41.250000   0.750000  \n",
       "50%     90.000000   1.750000  \n",
       "75%    120.000000   3.000000  \n",
       "max    330.000000  14.000000  "
      ]
     },
     "execution_count": 48,
     "metadata": {},
     "output_type": "execute_result"
    }
   ],
   "source": [
    "df[['protein', 'fat', 'carbo', 'vitamins', 'sodium', 'sugars', 'potass', 'fiber']].describe()"
   ]
  },
  {
   "cell_type": "markdown",
   "id": "MJXotHXW47pp",
   "metadata": {
    "id": "MJXotHXW47pp"
   },
   "source": [
    "As we can see, the minimum values of carbo, sugars and potass is -1, which cannot be possible in a real-life scenario. This is caused by the presence of null values which are represented by -1 in our dataset. Hence, we must deal with them and then do our analysis."
   ]
  },
  {
   "cell_type": "markdown",
   "id": "49acf16b",
   "metadata": {
    "id": "49acf16b"
   },
   "source": [
    "#### **Q2.**  For each of the numeric attributes (proteins upto vitamins) , identify and replace all missing data(indicated with -1) with the arithmetic mean of the attribute."
   ]
  },
  {
   "cell_type": "markdown",
   "id": "ElGeE1hVaRVe",
   "metadata": {
    "id": "ElGeE1hVaRVe"
   },
   "source": [
    "To solve Question 2, we use the mask() function from the Pandas library. This function first replaces -1 with NA and then fills them with the mean of the rest of the data using the mean() function from the Pandas library."
   ]
  },
  {
   "cell_type": "code",
   "execution_count": 11,
   "id": "6ee5ab2d",
   "metadata": {
    "colab": {
     "base_uri": "https://localhost:8080/",
     "height": 206
    },
    "id": "6ee5ab2d",
    "outputId": "e2adc45d-3577-4d2d-fd49-21f43660d157"
   },
   "outputs": [
    {
     "data": {
      "text/html": [
       "<div>\n",
       "<style scoped>\n",
       "    .dataframe tbody tr th:only-of-type {\n",
       "        vertical-align: middle;\n",
       "    }\n",
       "\n",
       "    .dataframe tbody tr th {\n",
       "        vertical-align: top;\n",
       "    }\n",
       "\n",
       "    .dataframe thead th {\n",
       "        text-align: right;\n",
       "    }\n",
       "</style>\n",
       "<table border=\"1\" class=\"dataframe\">\n",
       "  <thead>\n",
       "    <tr style=\"text-align: right;\">\n",
       "      <th></th>\n",
       "      <th>name</th>\n",
       "      <th>mfr</th>\n",
       "      <th>type</th>\n",
       "      <th>calories</th>\n",
       "      <th>protein</th>\n",
       "      <th>fat</th>\n",
       "      <th>sodium</th>\n",
       "      <th>fiber</th>\n",
       "      <th>carbo</th>\n",
       "      <th>sugars</th>\n",
       "      <th>potass</th>\n",
       "      <th>vitamins</th>\n",
       "      <th>shelf</th>\n",
       "      <th>weight</th>\n",
       "      <th>cups</th>\n",
       "      <th>rating</th>\n",
       "    </tr>\n",
       "  </thead>\n",
       "  <tbody>\n",
       "    <tr>\n",
       "      <th>0</th>\n",
       "      <td>100%_Natural_Bran</td>\n",
       "      <td>Q</td>\n",
       "      <td>C</td>\n",
       "      <td>120</td>\n",
       "      <td>3</td>\n",
       "      <td>5</td>\n",
       "      <td>15</td>\n",
       "      <td>2.0</td>\n",
       "      <td>8.0</td>\n",
       "      <td>8.0</td>\n",
       "      <td>135.000000</td>\n",
       "      <td>0</td>\n",
       "      <td>3</td>\n",
       "      <td>1.0</td>\n",
       "      <td>1.00</td>\n",
       "      <td>33.983679</td>\n",
       "    </tr>\n",
       "    <tr>\n",
       "      <th>1</th>\n",
       "      <td>All-Bran</td>\n",
       "      <td>K</td>\n",
       "      <td>C</td>\n",
       "      <td>70</td>\n",
       "      <td>4</td>\n",
       "      <td>1</td>\n",
       "      <td>260</td>\n",
       "      <td>9.0</td>\n",
       "      <td>7.0</td>\n",
       "      <td>5.0</td>\n",
       "      <td>320.000000</td>\n",
       "      <td>25</td>\n",
       "      <td>3</td>\n",
       "      <td>1.0</td>\n",
       "      <td>0.33</td>\n",
       "      <td>59.425505</td>\n",
       "    </tr>\n",
       "    <tr>\n",
       "      <th>2</th>\n",
       "      <td>All-Bran_with_Extra_Fiber</td>\n",
       "      <td>K</td>\n",
       "      <td>C</td>\n",
       "      <td>50</td>\n",
       "      <td>4</td>\n",
       "      <td>0</td>\n",
       "      <td>140</td>\n",
       "      <td>14.0</td>\n",
       "      <td>8.0</td>\n",
       "      <td>0.0</td>\n",
       "      <td>330.000000</td>\n",
       "      <td>25</td>\n",
       "      <td>3</td>\n",
       "      <td>1.0</td>\n",
       "      <td>0.50</td>\n",
       "      <td>93.704912</td>\n",
       "    </tr>\n",
       "    <tr>\n",
       "      <th>3</th>\n",
       "      <td>Almond_Delight</td>\n",
       "      <td>R</td>\n",
       "      <td>C</td>\n",
       "      <td>110</td>\n",
       "      <td>2</td>\n",
       "      <td>2</td>\n",
       "      <td>200</td>\n",
       "      <td>1.0</td>\n",
       "      <td>14.0</td>\n",
       "      <td>8.0</td>\n",
       "      <td>96.216216</td>\n",
       "      <td>25</td>\n",
       "      <td>3</td>\n",
       "      <td>1.0</td>\n",
       "      <td>0.75</td>\n",
       "      <td>34.384843</td>\n",
       "    </tr>\n",
       "    <tr>\n",
       "      <th>4</th>\n",
       "      <td>Apple_Cinnamon_Cheerios</td>\n",
       "      <td>G</td>\n",
       "      <td>C</td>\n",
       "      <td>110</td>\n",
       "      <td>2</td>\n",
       "      <td>2</td>\n",
       "      <td>180</td>\n",
       "      <td>1.5</td>\n",
       "      <td>10.5</td>\n",
       "      <td>10.0</td>\n",
       "      <td>70.000000</td>\n",
       "      <td>25</td>\n",
       "      <td>1</td>\n",
       "      <td>1.0</td>\n",
       "      <td>0.75</td>\n",
       "      <td>29.509541</td>\n",
       "    </tr>\n",
       "    <tr>\n",
       "      <th>...</th>\n",
       "      <td>...</td>\n",
       "      <td>...</td>\n",
       "      <td>...</td>\n",
       "      <td>...</td>\n",
       "      <td>...</td>\n",
       "      <td>...</td>\n",
       "      <td>...</td>\n",
       "      <td>...</td>\n",
       "      <td>...</td>\n",
       "      <td>...</td>\n",
       "      <td>...</td>\n",
       "      <td>...</td>\n",
       "      <td>...</td>\n",
       "      <td>...</td>\n",
       "      <td>...</td>\n",
       "      <td>...</td>\n",
       "    </tr>\n",
       "    <tr>\n",
       "      <th>71</th>\n",
       "      <td>Triples</td>\n",
       "      <td>G</td>\n",
       "      <td>C</td>\n",
       "      <td>110</td>\n",
       "      <td>2</td>\n",
       "      <td>1</td>\n",
       "      <td>250</td>\n",
       "      <td>0.0</td>\n",
       "      <td>21.0</td>\n",
       "      <td>3.0</td>\n",
       "      <td>60.000000</td>\n",
       "      <td>25</td>\n",
       "      <td>3</td>\n",
       "      <td>1.0</td>\n",
       "      <td>0.75</td>\n",
       "      <td>39.106174</td>\n",
       "    </tr>\n",
       "    <tr>\n",
       "      <th>72</th>\n",
       "      <td>Trix</td>\n",
       "      <td>G</td>\n",
       "      <td>C</td>\n",
       "      <td>110</td>\n",
       "      <td>1</td>\n",
       "      <td>1</td>\n",
       "      <td>140</td>\n",
       "      <td>0.0</td>\n",
       "      <td>13.0</td>\n",
       "      <td>12.0</td>\n",
       "      <td>25.000000</td>\n",
       "      <td>25</td>\n",
       "      <td>2</td>\n",
       "      <td>1.0</td>\n",
       "      <td>1.00</td>\n",
       "      <td>27.753301</td>\n",
       "    </tr>\n",
       "    <tr>\n",
       "      <th>73</th>\n",
       "      <td>Wheat_Chex</td>\n",
       "      <td>R</td>\n",
       "      <td>C</td>\n",
       "      <td>100</td>\n",
       "      <td>3</td>\n",
       "      <td>1</td>\n",
       "      <td>230</td>\n",
       "      <td>3.0</td>\n",
       "      <td>17.0</td>\n",
       "      <td>3.0</td>\n",
       "      <td>115.000000</td>\n",
       "      <td>25</td>\n",
       "      <td>1</td>\n",
       "      <td>1.0</td>\n",
       "      <td>0.67</td>\n",
       "      <td>49.787445</td>\n",
       "    </tr>\n",
       "    <tr>\n",
       "      <th>74</th>\n",
       "      <td>Wheaties</td>\n",
       "      <td>G</td>\n",
       "      <td>C</td>\n",
       "      <td>100</td>\n",
       "      <td>3</td>\n",
       "      <td>1</td>\n",
       "      <td>200</td>\n",
       "      <td>3.0</td>\n",
       "      <td>17.0</td>\n",
       "      <td>3.0</td>\n",
       "      <td>110.000000</td>\n",
       "      <td>25</td>\n",
       "      <td>1</td>\n",
       "      <td>1.0</td>\n",
       "      <td>1.00</td>\n",
       "      <td>51.592193</td>\n",
       "    </tr>\n",
       "    <tr>\n",
       "      <th>75</th>\n",
       "      <td>Wheaties_Honey_Gold</td>\n",
       "      <td>G</td>\n",
       "      <td>C</td>\n",
       "      <td>110</td>\n",
       "      <td>2</td>\n",
       "      <td>1</td>\n",
       "      <td>200</td>\n",
       "      <td>1.0</td>\n",
       "      <td>16.0</td>\n",
       "      <td>8.0</td>\n",
       "      <td>60.000000</td>\n",
       "      <td>25</td>\n",
       "      <td>1</td>\n",
       "      <td>1.0</td>\n",
       "      <td>0.75</td>\n",
       "      <td>36.187559</td>\n",
       "    </tr>\n",
       "  </tbody>\n",
       "</table>\n",
       "<p>76 rows × 16 columns</p>\n",
       "</div>"
      ],
      "text/plain": [
       "                         name mfr type  calories  protein  fat  sodium  fiber  \\\n",
       "0           100%_Natural_Bran   Q    C       120        3    5      15    2.0   \n",
       "1                    All-Bran   K    C        70        4    1     260    9.0   \n",
       "2   All-Bran_with_Extra_Fiber   K    C        50        4    0     140   14.0   \n",
       "3              Almond_Delight   R    C       110        2    2     200    1.0   \n",
       "4     Apple_Cinnamon_Cheerios   G    C       110        2    2     180    1.5   \n",
       "..                        ...  ..  ...       ...      ...  ...     ...    ...   \n",
       "71                    Triples   G    C       110        2    1     250    0.0   \n",
       "72                       Trix   G    C       110        1    1     140    0.0   \n",
       "73                 Wheat_Chex   R    C       100        3    1     230    3.0   \n",
       "74                   Wheaties   G    C       100        3    1     200    3.0   \n",
       "75        Wheaties_Honey_Gold   G    C       110        2    1     200    1.0   \n",
       "\n",
       "    carbo  sugars      potass  vitamins  shelf  weight  cups     rating  \n",
       "0     8.0     8.0  135.000000         0      3     1.0  1.00  33.983679  \n",
       "1     7.0     5.0  320.000000        25      3     1.0  0.33  59.425505  \n",
       "2     8.0     0.0  330.000000        25      3     1.0  0.50  93.704912  \n",
       "3    14.0     8.0   96.216216        25      3     1.0  0.75  34.384843  \n",
       "4    10.5    10.0   70.000000        25      1     1.0  0.75  29.509541  \n",
       "..    ...     ...         ...       ...    ...     ...   ...        ...  \n",
       "71   21.0     3.0   60.000000        25      3     1.0  0.75  39.106174  \n",
       "72   13.0    12.0   25.000000        25      2     1.0  1.00  27.753301  \n",
       "73   17.0     3.0  115.000000        25      1     1.0  0.67  49.787445  \n",
       "74   17.0     3.0  110.000000        25      1     1.0  1.00  51.592193  \n",
       "75   16.0     8.0   60.000000        25      1     1.0  0.75  36.187559  \n",
       "\n",
       "[76 rows x 16 columns]"
      ]
     },
     "execution_count": 11,
     "metadata": {},
     "output_type": "execute_result"
    }
   ],
   "source": [
    "# filling values -1 with mean\n",
    "df.fillna(df.mean(numeric_only=True),inplace=True)\n",
    "df"
   ]
  },
  {
   "cell_type": "markdown",
   "id": "492de21f",
   "metadata": {
    "id": "492de21f"
   },
   "source": [
    "#### **Q3.**  Create a table with the 5-number summary of all the numeric attributes after treating missing values. Do you think the strategy used in dealing with missing values was effective? "
   ]
  },
  {
   "cell_type": "markdown",
   "id": "PE8eQN3oaoY2",
   "metadata": {
    "id": "PE8eQN3oaoY2"
   },
   "source": [
    "To solve Question 3, we use the describe() function from the Pandas library on the columns protein, fat, carbo, vitamins, sodium, sugars, potass and fiber. "
   ]
  },
  {
   "cell_type": "code",
   "execution_count": 13,
   "id": "c4eb2719",
   "metadata": {
    "colab": {
     "base_uri": "https://localhost:8080/",
     "height": 300
    },
    "id": "c4eb2719",
    "outputId": "d51c0387-3a02-4795-a1cf-6bbae21dee4c"
   },
   "outputs": [
    {
     "data": {
      "text/html": [
       "<div>\n",
       "<style scoped>\n",
       "    .dataframe tbody tr th:only-of-type {\n",
       "        vertical-align: middle;\n",
       "    }\n",
       "\n",
       "    .dataframe tbody tr th {\n",
       "        vertical-align: top;\n",
       "    }\n",
       "\n",
       "    .dataframe thead th {\n",
       "        text-align: right;\n",
       "    }\n",
       "</style>\n",
       "<table border=\"1\" class=\"dataframe\">\n",
       "  <thead>\n",
       "    <tr style=\"text-align: right;\">\n",
       "      <th></th>\n",
       "      <th>protein</th>\n",
       "      <th>fat</th>\n",
       "      <th>carbo</th>\n",
       "      <th>vitamins</th>\n",
       "      <th>sodium</th>\n",
       "      <th>sugars</th>\n",
       "      <th>potass</th>\n",
       "      <th>fiber</th>\n",
       "    </tr>\n",
       "  </thead>\n",
       "  <tbody>\n",
       "    <tr>\n",
       "      <th>count</th>\n",
       "      <td>76.000000</td>\n",
       "      <td>76.000000</td>\n",
       "      <td>76.000000</td>\n",
       "      <td>76.000000</td>\n",
       "      <td>76.000000</td>\n",
       "      <td>76.000000</td>\n",
       "      <td>76.000000</td>\n",
       "      <td>76.000000</td>\n",
       "    </tr>\n",
       "    <tr>\n",
       "      <th>mean</th>\n",
       "      <td>2.526316</td>\n",
       "      <td>1.013158</td>\n",
       "      <td>14.933333</td>\n",
       "      <td>28.289474</td>\n",
       "      <td>160.065789</td>\n",
       "      <td>7.040000</td>\n",
       "      <td>96.216216</td>\n",
       "      <td>2.048684</td>\n",
       "    </tr>\n",
       "    <tr>\n",
       "      <th>std</th>\n",
       "      <td>1.089020</td>\n",
       "      <td>1.013159</td>\n",
       "      <td>3.737498</td>\n",
       "      <td>22.487813</td>\n",
       "      <td>84.318813</td>\n",
       "      <td>4.377031</td>\n",
       "      <td>66.687384</td>\n",
       "      <td>2.219038</td>\n",
       "    </tr>\n",
       "    <tr>\n",
       "      <th>min</th>\n",
       "      <td>1.000000</td>\n",
       "      <td>0.000000</td>\n",
       "      <td>7.000000</td>\n",
       "      <td>0.000000</td>\n",
       "      <td>0.000000</td>\n",
       "      <td>0.000000</td>\n",
       "      <td>15.000000</td>\n",
       "      <td>0.000000</td>\n",
       "    </tr>\n",
       "    <tr>\n",
       "      <th>25%</th>\n",
       "      <td>2.000000</td>\n",
       "      <td>0.000000</td>\n",
       "      <td>12.000000</td>\n",
       "      <td>25.000000</td>\n",
       "      <td>132.500000</td>\n",
       "      <td>3.000000</td>\n",
       "      <td>43.750000</td>\n",
       "      <td>0.750000</td>\n",
       "    </tr>\n",
       "    <tr>\n",
       "      <th>50%</th>\n",
       "      <td>2.500000</td>\n",
       "      <td>1.000000</td>\n",
       "      <td>14.966667</td>\n",
       "      <td>25.000000</td>\n",
       "      <td>180.000000</td>\n",
       "      <td>7.000000</td>\n",
       "      <td>90.000000</td>\n",
       "      <td>1.750000</td>\n",
       "    </tr>\n",
       "    <tr>\n",
       "      <th>75%</th>\n",
       "      <td>3.000000</td>\n",
       "      <td>2.000000</td>\n",
       "      <td>17.000000</td>\n",
       "      <td>25.000000</td>\n",
       "      <td>212.500000</td>\n",
       "      <td>11.000000</td>\n",
       "      <td>120.000000</td>\n",
       "      <td>3.000000</td>\n",
       "    </tr>\n",
       "    <tr>\n",
       "      <th>max</th>\n",
       "      <td>6.000000</td>\n",
       "      <td>5.000000</td>\n",
       "      <td>23.000000</td>\n",
       "      <td>100.000000</td>\n",
       "      <td>320.000000</td>\n",
       "      <td>15.000000</td>\n",
       "      <td>330.000000</td>\n",
       "      <td>14.000000</td>\n",
       "    </tr>\n",
       "  </tbody>\n",
       "</table>\n",
       "</div>"
      ],
      "text/plain": [
       "         protein        fat      carbo    vitamins      sodium     sugars  \\\n",
       "count  76.000000  76.000000  76.000000   76.000000   76.000000  76.000000   \n",
       "mean    2.526316   1.013158  14.933333   28.289474  160.065789   7.040000   \n",
       "std     1.089020   1.013159   3.737498   22.487813   84.318813   4.377031   \n",
       "min     1.000000   0.000000   7.000000    0.000000    0.000000   0.000000   \n",
       "25%     2.000000   0.000000  12.000000   25.000000  132.500000   3.000000   \n",
       "50%     2.500000   1.000000  14.966667   25.000000  180.000000   7.000000   \n",
       "75%     3.000000   2.000000  17.000000   25.000000  212.500000  11.000000   \n",
       "max     6.000000   5.000000  23.000000  100.000000  320.000000  15.000000   \n",
       "\n",
       "           potass      fiber  \n",
       "count   76.000000  76.000000  \n",
       "mean    96.216216   2.048684  \n",
       "std     66.687384   2.219038  \n",
       "min     15.000000   0.000000  \n",
       "25%     43.750000   0.750000  \n",
       "50%     90.000000   1.750000  \n",
       "75%    120.000000   3.000000  \n",
       "max    330.000000  14.000000  "
      ]
     },
     "execution_count": 13,
     "metadata": {},
     "output_type": "execute_result"
    }
   ],
   "source": [
    "# selecting only the numeric datatypes and displaying the five number summary\n",
    "df[['protein', 'fat', 'carbo', 'vitamins', 'sodium', 'sugars', 'potass', 'fiber']].describe()"
   ]
  },
  {
   "cell_type": "markdown",
   "id": "0AinG7-7a2YT",
   "metadata": {
    "id": "0AinG7-7a2YT"
   },
   "source": [
    "As we can see, the minimum values of carbo, sugars and potass are now 7, 0, and 15 respectively. This is possible in real life. Hence, the strategy in dealing with the missing values was effective. However, we see that the maximum values of the columns protein, vitamins, potass and fiber and the minimum values of the columns vitamins and sodium are not on the scale of the Q1, Q2, and Q3 values of the respective columns. This indicates the presence of outliers in the data. Hence, we must deal with them and do our analysis."
   ]
  },
  {
   "cell_type": "markdown",
   "id": "03924e13",
   "metadata": {
    "id": "03924e13"
   },
   "source": [
    "#### **Q4.** For each of the numeric attributes (proteins upto vitamins), identify and replace all noisy data with the median of attribute. "
   ]
  },
  {
   "cell_type": "markdown",
   "id": "dWZ8pxXUdyKS",
   "metadata": {
    "id": "dWZ8pxXUdyKS"
   },
   "source": [
    "To solve Question 5, we loop over the nutrient columns and find out the Q1, Q2, Q3 and IQR values from the data columns using the quantile() and median() functions from the NumPy and Pandas libraries and then calculate the lower and upper bounds. After that, we replace the outliers, which are outside the lower and upper bounds, with the median of the data using the where() function from the NumPy library."
   ]
  },
  {
   "cell_type": "code",
   "execution_count": 54,
   "id": "7820a843",
   "metadata": {
    "id": "7820a843"
   },
   "outputs": [],
   "source": [
    "# replacing the outliers with median\n",
    "for column in df[['protein', 'fat', 'carbo', 'vitamins', 'sodium', 'sugars', 'potass', 'fiber']]:\n",
    "    \n",
    "    q1 = np.quantile(df[column], 0.25)\n",
    "    q3 = np.quantile(df[column], 0.75)\n",
    "    iqr = q3 - q1\n",
    "    \n",
    "    upper_bound = q3 + 1.5*iqr\n",
    "    lower_bound = q1 - 1.5*iqr\n",
    "    \n",
    "    q2 = df[column].median()\n",
    "    \n",
    "    df[column] = np.where(df[column]>upper_bound, q2, df[column])\n",
    "    df[column] = np.where(df[column]<lower_bound, q2, df[column])"
   ]
  },
  {
   "cell_type": "markdown",
   "id": "e3e57878",
   "metadata": {
    "id": "e3e57878"
   },
   "source": [
    "#### **Q5.** Create a table with the 5-number summary of all the numeric attributes after treating noisy values. Do you think the strategy used in dealing with noisy values was  effective?"
   ]
  },
  {
   "cell_type": "markdown",
   "id": "0YPK6ygR3P0Z",
   "metadata": {
    "id": "0YPK6ygR3P0Z"
   },
   "source": [
    "To solve Question 5, we use the describe() function from the Pandas library on the columns protein, fat, carbo, vitamins, sodium, sugars, potass and fiber."
   ]
  },
  {
   "cell_type": "code",
   "execution_count": 100,
   "id": "17d9990d",
   "metadata": {
    "colab": {
     "base_uri": "https://localhost:8080/",
     "height": 300
    },
    "id": "17d9990d",
    "outputId": "a772c61c-dbbf-4870-b4b2-f6c6061e7c7f"
   },
   "outputs": [
    {
     "data": {
      "text/html": [
       "<div>\n",
       "<style scoped>\n",
       "    .dataframe tbody tr th:only-of-type {\n",
       "        vertical-align: middle;\n",
       "    }\n",
       "\n",
       "    .dataframe tbody tr th {\n",
       "        vertical-align: top;\n",
       "    }\n",
       "\n",
       "    .dataframe thead th {\n",
       "        text-align: right;\n",
       "    }\n",
       "</style>\n",
       "<table border=\"1\" class=\"dataframe\">\n",
       "  <thead>\n",
       "    <tr style=\"text-align: right;\">\n",
       "      <th></th>\n",
       "      <th>calories</th>\n",
       "      <th>protein</th>\n",
       "      <th>fat</th>\n",
       "      <th>sodium</th>\n",
       "      <th>fiber</th>\n",
       "      <th>carbo</th>\n",
       "      <th>sugars</th>\n",
       "      <th>potass</th>\n",
       "      <th>vitamins</th>\n",
       "    </tr>\n",
       "  </thead>\n",
       "  <tbody>\n",
       "    <tr>\n",
       "      <th>count</th>\n",
       "      <td>76.000000</td>\n",
       "      <td>76.000000</td>\n",
       "      <td>76.000000</td>\n",
       "      <td>76.000000</td>\n",
       "      <td>76.000000</td>\n",
       "      <td>76.000000</td>\n",
       "      <td>76.000000</td>\n",
       "      <td>76.000000</td>\n",
       "      <td>76.0</td>\n",
       "    </tr>\n",
       "    <tr>\n",
       "      <th>mean</th>\n",
       "      <td>107.368421</td>\n",
       "      <td>2.401316</td>\n",
       "      <td>1.013158</td>\n",
       "      <td>181.381579</td>\n",
       "      <td>1.792105</td>\n",
       "      <td>14.933333</td>\n",
       "      <td>7.040000</td>\n",
       "      <td>85.821479</td>\n",
       "      <td>25.0</td>\n",
       "    </tr>\n",
       "    <tr>\n",
       "      <th>std</th>\n",
       "      <td>19.139378</td>\n",
       "      <td>0.875670</td>\n",
       "      <td>1.013159</td>\n",
       "      <td>60.186370</td>\n",
       "      <td>1.520220</td>\n",
       "      <td>3.737498</td>\n",
       "      <td>4.377031</td>\n",
       "      <td>48.062504</td>\n",
       "      <td>0.0</td>\n",
       "    </tr>\n",
       "    <tr>\n",
       "      <th>min</th>\n",
       "      <td>50.000000</td>\n",
       "      <td>1.000000</td>\n",
       "      <td>0.000000</td>\n",
       "      <td>15.000000</td>\n",
       "      <td>0.000000</td>\n",
       "      <td>7.000000</td>\n",
       "      <td>0.000000</td>\n",
       "      <td>15.000000</td>\n",
       "      <td>25.0</td>\n",
       "    </tr>\n",
       "    <tr>\n",
       "      <th>25%</th>\n",
       "      <td>100.000000</td>\n",
       "      <td>2.000000</td>\n",
       "      <td>0.000000</td>\n",
       "      <td>147.500000</td>\n",
       "      <td>0.750000</td>\n",
       "      <td>12.000000</td>\n",
       "      <td>3.000000</td>\n",
       "      <td>43.750000</td>\n",
       "      <td>25.0</td>\n",
       "    </tr>\n",
       "    <tr>\n",
       "      <th>50%</th>\n",
       "      <td>110.000000</td>\n",
       "      <td>2.250000</td>\n",
       "      <td>1.000000</td>\n",
       "      <td>180.000000</td>\n",
       "      <td>1.625000</td>\n",
       "      <td>14.966667</td>\n",
       "      <td>7.000000</td>\n",
       "      <td>90.000000</td>\n",
       "      <td>25.0</td>\n",
       "    </tr>\n",
       "    <tr>\n",
       "      <th>75%</th>\n",
       "      <td>110.000000</td>\n",
       "      <td>3.000000</td>\n",
       "      <td>2.000000</td>\n",
       "      <td>212.500000</td>\n",
       "      <td>3.000000</td>\n",
       "      <td>17.000000</td>\n",
       "      <td>11.000000</td>\n",
       "      <td>110.000000</td>\n",
       "      <td>25.0</td>\n",
       "    </tr>\n",
       "    <tr>\n",
       "      <th>max</th>\n",
       "      <td>160.000000</td>\n",
       "      <td>4.000000</td>\n",
       "      <td>5.000000</td>\n",
       "      <td>320.000000</td>\n",
       "      <td>6.000000</td>\n",
       "      <td>23.000000</td>\n",
       "      <td>15.000000</td>\n",
       "      <td>230.000000</td>\n",
       "      <td>25.0</td>\n",
       "    </tr>\n",
       "  </tbody>\n",
       "</table>\n",
       "</div>"
      ],
      "text/plain": [
       "         calories    protein        fat      sodium      fiber      carbo  \\\n",
       "count   76.000000  76.000000  76.000000   76.000000  76.000000  76.000000   \n",
       "mean   107.368421   2.401316   1.013158  181.381579   1.792105  14.933333   \n",
       "std     19.139378   0.875670   1.013159   60.186370   1.520220   3.737498   \n",
       "min     50.000000   1.000000   0.000000   15.000000   0.000000   7.000000   \n",
       "25%    100.000000   2.000000   0.000000  147.500000   0.750000  12.000000   \n",
       "50%    110.000000   2.250000   1.000000  180.000000   1.625000  14.966667   \n",
       "75%    110.000000   3.000000   2.000000  212.500000   3.000000  17.000000   \n",
       "max    160.000000   4.000000   5.000000  320.000000   6.000000  23.000000   \n",
       "\n",
       "          sugars      potass  vitamins  \n",
       "count  76.000000   76.000000      76.0  \n",
       "mean    7.040000   85.821479      25.0  \n",
       "std     4.377031   48.062504       0.0  \n",
       "min     0.000000   15.000000      25.0  \n",
       "25%     3.000000   43.750000      25.0  \n",
       "50%     7.000000   90.000000      25.0  \n",
       "75%    11.000000  110.000000      25.0  \n",
       "max    15.000000  230.000000      25.0  "
      ]
     },
     "execution_count": 100,
     "metadata": {},
     "output_type": "execute_result"
    }
   ],
   "source": [
    "# selecting only the numeric datatypes and displaying the five number summary\n",
    "df.iloc[:,3:12].describe()"
   ]
  },
  {
   "cell_type": "markdown",
   "id": "zBAN2oz73Rp6",
   "metadata": {
    "id": "zBAN2oz73Rp6"
   },
   "source": [
    "As we can see, the minimum and maximum values are now within the scale of the Q1, Q2, and Q3 values of all the columns. Hence, the strategy of dealing with outliers was effective."
   ]
  },
  {
   "cell_type": "markdown",
   "id": "33iqL7aT3i4A",
   "metadata": {
    "id": "33iqL7aT3i4A"
   },
   "source": [
    "Hence, the data has now been pre-processed - we have replaced the missing values with the mean of the data and the outliers with the median of the data. Now, we will proceed with the analysis."
   ]
  },
  {
   "cell_type": "markdown",
   "id": "34576997",
   "metadata": {
    "id": "34576997"
   },
   "source": [
    "#### **Q6.** Cross tabulate the type of cereal (hot vs cold) against the manufacturer"
   ]
  },
  {
   "cell_type": "markdown",
   "id": "H9Hnhcd67Yy3",
   "metadata": {
    "id": "H9Hnhcd67Yy3"
   },
   "source": [
    "To solve Question 6, we use the crosstab() function from the Pandas library and pass the columns mfr and type."
   ]
  },
  {
   "cell_type": "code",
   "execution_count": 58,
   "id": "41be4732",
   "metadata": {
    "colab": {
     "base_uri": "https://localhost:8080/",
     "height": 300
    },
    "id": "41be4732",
    "outputId": "9c210a1a-84ec-4082-a039-cdef5d3b89c9"
   },
   "outputs": [
    {
     "data": {
      "text/html": [
       "<div>\n",
       "<style scoped>\n",
       "    .dataframe tbody tr th:only-of-type {\n",
       "        vertical-align: middle;\n",
       "    }\n",
       "\n",
       "    .dataframe tbody tr th {\n",
       "        vertical-align: top;\n",
       "    }\n",
       "\n",
       "    .dataframe thead th {\n",
       "        text-align: right;\n",
       "    }\n",
       "</style>\n",
       "<table border=\"1\" class=\"dataframe\">\n",
       "  <thead>\n",
       "    <tr style=\"text-align: right;\">\n",
       "      <th>type</th>\n",
       "      <th>C</th>\n",
       "      <th>H</th>\n",
       "    </tr>\n",
       "    <tr>\n",
       "      <th>mfr</th>\n",
       "      <th></th>\n",
       "      <th></th>\n",
       "    </tr>\n",
       "  </thead>\n",
       "  <tbody>\n",
       "    <tr>\n",
       "      <th>A</th>\n",
       "      <td>0</td>\n",
       "      <td>1</td>\n",
       "    </tr>\n",
       "    <tr>\n",
       "      <th>G</th>\n",
       "      <td>22</td>\n",
       "      <td>0</td>\n",
       "    </tr>\n",
       "    <tr>\n",
       "      <th>K</th>\n",
       "      <td>23</td>\n",
       "      <td>0</td>\n",
       "    </tr>\n",
       "    <tr>\n",
       "      <th>N</th>\n",
       "      <td>4</td>\n",
       "      <td>1</td>\n",
       "    </tr>\n",
       "    <tr>\n",
       "      <th>P</th>\n",
       "      <td>9</td>\n",
       "      <td>0</td>\n",
       "    </tr>\n",
       "    <tr>\n",
       "      <th>Q</th>\n",
       "      <td>7</td>\n",
       "      <td>1</td>\n",
       "    </tr>\n",
       "    <tr>\n",
       "      <th>R</th>\n",
       "      <td>8</td>\n",
       "      <td>0</td>\n",
       "    </tr>\n",
       "  </tbody>\n",
       "</table>\n",
       "</div>"
      ],
      "text/plain": [
       "type   C  H\n",
       "mfr        \n",
       "A      0  1\n",
       "G     22  0\n",
       "K     23  0\n",
       "N      4  1\n",
       "P      9  0\n",
       "Q      7  1\n",
       "R      8  0"
      ]
     },
     "execution_count": 58,
     "metadata": {},
     "output_type": "execute_result"
    }
   ],
   "source": [
    "# cross-tabulation\n",
    "pd.crosstab(df.mfr, df.type)"
   ]
  },
  {
   "cell_type": "markdown",
   "id": "xchYCIjK7ku6",
   "metadata": {
    "id": "xchYCIjK7ku6"
   },
   "source": [
    "As we can see, there are:\n",
    "*   0 cold and 1 hot cereals that American Home Food Products sells.\n",
    "*   22 cold and 0 hot cereals that General Mills sells.\n",
    "*   23 cold and 0 hot cereals that Kelloggs sells.\n",
    "*   4 cold and 1 hot cereals that Nabisco sells.\n",
    "*   9 cold and 0 hot cereals that Post sells.\n",
    "*   7 cold and 1 hot cereals that Quaker Oats sells.\n",
    "*   8 cold and 0 hot cereals that Ralston Purina sells."
   ]
  },
  {
   "cell_type": "markdown",
   "id": "c132faf1",
   "metadata": {
    "id": "c132faf1"
   },
   "source": [
    "#### **Q7.** Which is the cereal with the best rating, worst rating?"
   ]
  },
  {
   "cell_type": "markdown",
   "id": "-RUrrd7W8Tkb",
   "metadata": {
    "id": "-RUrrd7W8Tkb"
   },
   "source": [
    "To solve part a of Question 7, we filter the dataframe with the condition that the rating observation matches the maximum value of the rating. In this filtered dataframe, we check the observation in the name column. "
   ]
  },
  {
   "cell_type": "code",
   "execution_count": 60,
   "id": "218484b8",
   "metadata": {
    "colab": {
     "base_uri": "https://localhost:8080/"
    },
    "id": "218484b8",
    "outputId": "496b82a2-f425-4e1c-a97a-f81e18ef6bc1"
   },
   "outputs": [
    {
     "data": {
      "text/plain": [
       "2    All-Bran_with_Extra_Fiber\n",
       "Name: name, dtype: object"
      ]
     },
     "execution_count": 60,
     "metadata": {},
     "output_type": "execute_result"
    }
   ],
   "source": [
    "# best rating\n",
    "df[df.rating==df.rating.max()].name"
   ]
  },
  {
   "cell_type": "markdown",
   "id": "P3LXIRV-8hH3",
   "metadata": {
    "id": "P3LXIRV-8hH3"
   },
   "source": [
    "As we can see, All-Bran_with_Extra_Fiber has the best rating."
   ]
  },
  {
   "cell_type": "markdown",
   "id": "Fr41Y7wL806W",
   "metadata": {
    "id": "Fr41Y7wL806W"
   },
   "source": [
    "To solve part b of Question 7, we filter the dataframe with the condition that the rating observation matches the minimum value of the rating. In this filtered dataframe, we check the observation in the name column. "
   ]
  },
  {
   "cell_type": "code",
   "execution_count": 62,
   "id": "f68de616",
   "metadata": {
    "colab": {
     "base_uri": "https://localhost:8080/"
    },
    "id": "f68de616",
    "outputId": "20943d49-13b8-44d1-8b28-6e3c5b350320"
   },
   "outputs": [
    {
     "data": {
      "text/plain": [
       "9    Cap'n'Crunch\n",
       "Name: name, dtype: object"
      ]
     },
     "execution_count": 62,
     "metadata": {},
     "output_type": "execute_result"
    }
   ],
   "source": [
    "# worst rating\n",
    "df[df.rating==df.rating.min()].name"
   ]
  },
  {
   "cell_type": "markdown",
   "id": "GDGMyZYC8461",
   "metadata": {
    "id": "GDGMyZYC8461"
   },
   "source": [
    "As we can see, Cap'n'Crunch has the worst rating."
   ]
  },
  {
   "cell_type": "markdown",
   "id": "2cf8f8cb",
   "metadata": {
    "id": "2cf8f8cb"
   },
   "source": [
    "#### **Q8.** Plot a side-by-side boxplot comparing the consumer rating of hot vs. cold cereals. "
   ]
  },
  {
   "cell_type": "markdown",
   "id": "m59C8IBC9OED",
   "metadata": {
    "id": "m59C8IBC9OED"
   },
   "source": [
    "To solve Question 8, we use the boxplot() function from the Seaborn library and pass the values type to be plotted on the x-axis and rating to be plotted on the y-axis."
   ]
  },
  {
   "cell_type": "code",
   "execution_count": 104,
   "id": "239146df",
   "metadata": {
    "colab": {
     "base_uri": "https://localhost:8080/",
     "height": 296
    },
    "id": "239146df",
    "outputId": "080bb4e5-b853-4eee-e102-ed6df300a31d"
   },
   "outputs": [
    {
     "data": {
      "text/plain": [
       "<Axes: xlabel='type', ylabel='rating'>"
      ]
     },
     "execution_count": 104,
     "metadata": {},
     "output_type": "execute_result"
    },
    {
     "data": {
      "image/png": "[encoded data removed]",
      "text/plain": [
       "<Figure size 640x480 with 1 Axes>"
      ]
     },
     "metadata": {},
     "output_type": "display_data"
    }
   ],
   "source": [
    "# boxplot of consumer rating vs type\n",
    "sns.boxplot(x='type', y='rating', data=df)\n"
   ]
  },
  {
   "cell_type": "code",
   "execution_count": 106,
   "id": "7f4ead78-ff1b-41e0-8c5b-91dd9fb37962",
   "metadata": {},
   "outputs": [
    {
     "data": {
      "text/plain": [
       "<Axes: title={'center': 'rating'}, xlabel='type'>"
      ]
     },
     "execution_count": 106,
     "metadata": {},
     "output_type": "execute_result"
    },
    {
     "data": {
      "image/png": "[encoded data removed]",
      "text/plain": [
       "<Figure size 640x480 with 1 Axes>"
      ]
     },
     "metadata": {},
     "output_type": "display_data"
    }
   ],
   "source": [
    "df.boxplot('rating','type')"
   ]
  },
  {
   "cell_type": "markdown",
   "id": "36bGk_uM9irG",
   "metadata": {
    "id": "36bGk_uM9irG"
   },
   "source": [
    "As we can see, the boxplot() function plots boxplots for each cereal type in different colours to make it easily distinguishable. The cold type cereal has one outlier in the higher range and is right skewed with a wider distribution. The hot type cereal has no outliers and has a more or less normal distribution with a narrower distribution."
   ]
  },
  {
   "cell_type": "markdown",
   "id": "c9749343",
   "metadata": {
    "id": "c9749343"
   },
   "source": [
    "#### **Q9.** Is there a relation between sugars, calories, carbs, and fat?"
   ]
  },
  {
   "cell_type": "markdown",
   "id": "Mr7qNhX3bv6w",
   "metadata": {
    "id": "Mr7qNhX3bv6w"
   },
   "source": [
    "To solve Question 9, use the pearson's correlation, as all the variables are continuous. To do this, we use the corr() function from the Pandas library."
   ]
  },
  {
   "cell_type": "code",
   "execution_count": 66,
   "id": "1080cfd3",
   "metadata": {
    "colab": {
     "base_uri": "https://localhost:8080/",
     "height": 174
    },
    "id": "1080cfd3",
    "outputId": "9ee7b9a3-ce3b-425a-c3c8-c4ea80e8cc2a"
   },
   "outputs": [
    {
     "data": {
      "text/html": [
       "<div>\n",
       "<style scoped>\n",
       "    .dataframe tbody tr th:only-of-type {\n",
       "        vertical-align: middle;\n",
       "    }\n",
       "\n",
       "    .dataframe tbody tr th {\n",
       "        vertical-align: top;\n",
       "    }\n",
       "\n",
       "    .dataframe thead th {\n",
       "        text-align: right;\n",
       "    }\n",
       "</style>\n",
       "<table border=\"1\" class=\"dataframe\">\n",
       "  <thead>\n",
       "    <tr style=\"text-align: right;\">\n",
       "      <th></th>\n",
       "      <th>sugars</th>\n",
       "      <th>calories</th>\n",
       "      <th>carbo</th>\n",
       "      <th>fat</th>\n",
       "    </tr>\n",
       "  </thead>\n",
       "  <tbody>\n",
       "    <tr>\n",
       "      <th>sugars</th>\n",
       "      <td>1.000000</td>\n",
       "      <td>0.574182</td>\n",
       "      <td>-0.501086</td>\n",
       "      <td>0.300664</td>\n",
       "    </tr>\n",
       "    <tr>\n",
       "      <th>calories</th>\n",
       "      <td>0.574182</td>\n",
       "      <td>1.000000</td>\n",
       "      <td>0.207331</td>\n",
       "      <td>0.510630</td>\n",
       "    </tr>\n",
       "    <tr>\n",
       "      <th>carbo</th>\n",
       "      <td>-0.501086</td>\n",
       "      <td>0.207331</td>\n",
       "      <td>1.000000</td>\n",
       "      <td>-0.311619</td>\n",
       "    </tr>\n",
       "    <tr>\n",
       "      <th>fat</th>\n",
       "      <td>0.300664</td>\n",
       "      <td>0.510630</td>\n",
       "      <td>-0.311619</td>\n",
       "      <td>1.000000</td>\n",
       "    </tr>\n",
       "  </tbody>\n",
       "</table>\n",
       "</div>"
      ],
      "text/plain": [
       "            sugars  calories     carbo       fat\n",
       "sugars    1.000000  0.574182 -0.501086  0.300664\n",
       "calories  0.574182  1.000000  0.207331  0.510630\n",
       "carbo    -0.501086  0.207331  1.000000 -0.311619\n",
       "fat       0.300664  0.510630 -0.311619  1.000000"
      ]
     },
     "execution_count": 66,
     "metadata": {},
     "output_type": "execute_result"
    }
   ],
   "source": [
    "# pearson's correlation value\n",
    "corr = df[['sugars', 'calories', 'carbo', 'fat']].corr()\n",
    "corr"
   ]
  },
  {
   "cell_type": "markdown",
   "id": "n2xoMKgEb9Z3",
   "metadata": {
    "id": "n2xoMKgEb9Z3"
   },
   "source": [
    "As we can see: \n",
    "*   The variables sugars and calories have a moderate degree of positive linear correlation, having correlation coefficient 0.57.\n",
    "*   The variables sugars and carbo have a moderate degree of negative linear correlation, having correlation coefficient -0.50.\n",
    "*   The variables sugars and fat have only the possibility of positive linear correlation, having correlation coefficient 0.30.\n",
    "*   The variables calories and carbo have only the possibility of positive linear correlation, having correlation coefficient 0.21.\n",
    "*   The variables calories and fat have a moderate degree of positive linear correlation, having correlation coefficient 0.51.\n",
    "*   The variables carbo and fat have only the possibility of negative linear correlation, having correlation coefficient -0.31."
   ]
  },
  {
   "cell_type": "markdown",
   "id": "2PJazukSvkY_",
   "metadata": {
    "id": "2PJazukSvkY_"
   },
   "source": [
    "To visualize the correlation, we use the heatmap() function from the Seaborn library."
   ]
  },
  {
   "cell_type": "code",
   "execution_count": 68,
   "id": "6ab99ce9",
   "metadata": {
    "colab": {
     "base_uri": "https://localhost:8080/",
     "height": 286
    },
    "id": "6ab99ce9",
    "outputId": "7f0808a6-375a-42c9-cfdc-8e42d83aa936"
   },
   "outputs": [
    {
     "data": {
      "text/plain": [
       "<Axes: >"
      ]
     },
     "execution_count": 68,
     "metadata": {},
     "output_type": "execute_result"
    },
    {
     "data": {
      "image/png": "[encoded data removed]",
      "text/plain": [
       "<Figure size 640x480 with 2 Axes>"
      ]
     },
     "metadata": {},
     "output_type": "display_data"
    }
   ],
   "source": [
    "# visualizing\n",
    "sns.heatmap(corr, annot=True)"
   ]
  },
  {
   "cell_type": "markdown",
   "id": "sa2mnXL1diat",
   "metadata": {
    "id": "sa2mnXL1diat"
   },
   "source": [
    "As we can see: \n",
    "*   The variables sugars and calories have a moderate degree of positive linear correlation, having correlation coefficient 0.57.\n",
    "*   The variables sugars and carbo have a moderate degree of negative linear correlation, having correlation coefficient -0.50.\n",
    "*   The variables sugars and fat have only the possibility of positive linear correlation, having correlation coefficient 0.30.\n",
    "*   The variables calories and carbo have only the possibility of positive linear correlation, having correlation coefficient 0.21.\n",
    "*   The variables calories and fat have a moderate degree of positive linear correlation, having correlation coefficient 0.51.\n",
    "*   The variables carbo and fat have only the possibility of negative linear correlation, having correlation coefficient -0.31."
   ]
  },
  {
   "cell_type": "markdown",
   "id": "Ye_u4NNzvt2B",
   "metadata": {
    "id": "Ye_u4NNzvt2B"
   },
   "source": [
    "To visualize the correlation, we also use the pairplot() function from the Seaborn library."
   ]
  },
  {
   "cell_type": "code",
   "execution_count": 70,
   "id": "xhYYo9HFdNcN",
   "metadata": {
    "colab": {
     "base_uri": "https://localhost:8080/",
     "height": 743
    },
    "id": "xhYYo9HFdNcN",
    "outputId": "809dd920-e9a2-4444-dca8-a3771eac4cc0"
   },
   "outputs": [
    {
     "data": {
      "text/plain": [
       "<seaborn.axisgrid.PairGrid at 0x20bd65a8170>"
      ]
     },
     "execution_count": 70,
     "metadata": {},
     "output_type": "execute_result"
    },
    {
     "data": {
      "image/png": "[encoded data removed]",
      "text/plain": [
       "<Figure size 1000x1000 with 20 Axes>"
      ]
     },
     "metadata": {},
     "output_type": "display_data"
    }
   ],
   "source": [
    "# visualization\n",
    "sns.pairplot(df[['sugars', 'calories', 'carbo', 'fat']])"
   ]
  },
  {
   "cell_type": "markdown",
   "id": "xCtbTb3zdpo7",
   "metadata": {
    "id": "xCtbTb3zdpo7"
   },
   "source": [
    "As we can see: \n",
    "*   The variables sugars and calories have a moderate degree of positive linear correlation.\n",
    "*   The variables sugars and carbo have a moderate degree of negative linear correlation.\n",
    "*   The variables sugars and fat have only the possibility of positive linear correlation.\n",
    "*   The variables calories and carbo have only the possibility of positive linear correlation.\n",
    "*   The variables calories and fat have a moderate degree of positive linear correlation.\n",
    "*   The variables carbo and fat have only the possibility of negative linear correlation."
   ]
  },
  {
   "cell_type": "markdown",
   "id": "2b07efea",
   "metadata": {
    "id": "2b07efea"
   },
   "source": [
    "#### **Q10.** Which manufacturers produce cereal with highest calories?"
   ]
  },
  {
   "cell_type": "markdown",
   "id": "OLTwx7EJd4Wn",
   "metadata": {
    "id": "OLTwx7EJd4Wn"
   },
   "source": [
    "To solve Question 10, we filter the dataframe with the condition that the calories observation matches the maximum value of calories. In this filtered dataframe, we check the observation in the mfr column."
   ]
  },
  {
   "cell_type": "code",
   "execution_count": 72,
   "id": "75a99a41",
   "metadata": {
    "colab": {
     "base_uri": "https://localhost:8080/"
    },
    "id": "75a99a41",
    "outputId": "74634d62-7e93-407a-de45-3c9c58df98d3"
   },
   "outputs": [
    {
     "data": {
      "text/plain": [
       "45    K\n",
       "Name: mfr, dtype: object"
      ]
     },
     "execution_count": 72,
     "metadata": {},
     "output_type": "execute_result"
    }
   ],
   "source": [
    "# manufacturers with highest calories\n",
    "df[df.calories==df.calories.max()].mfr"
   ]
  },
  {
   "cell_type": "markdown",
   "id": "OkjNz9E_eYJt",
   "metadata": {
    "id": "OkjNz9E_eYJt"
   },
   "source": [
    "As we can see, Kelloggs produces the cereal with the highest calories."
   ]
  },
  {
   "cell_type": "markdown",
   "id": "38d8d1fa",
   "metadata": {
    "id": "38d8d1fa"
   },
   "source": [
    "#### **Q11.** Use correlation tests and visualization to identify if the two variables calories and consumer rating associated ?"
   ]
  },
  {
   "cell_type": "markdown",
   "id": "04EDmRJAsgiM",
   "metadata": {
    "id": "04EDmRJAsgiM"
   },
   "source": [
    "To solve Question 11, we use the ANOVA test, since one variable - calories is discrete and one variable - rating is continuous. Here, the Null Hypothesis is that the ratings are not affected by the calories (sample means are equal) and the Alternate Hypothesis is that the ratings are affected by the calories (sample means are not equal). To do so, we use the f_oneway() function from the SciPy Stats library and group the ratings by calories."
   ]
  },
  {
   "cell_type": "code",
   "execution_count": 74,
   "id": "8dccde42",
   "metadata": {
    "colab": {
     "base_uri": "https://localhost:8080/"
    },
    "id": "8dccde42",
    "outputId": "6feaa891-fc71-4782-99d5-00de93139761"
   },
   "outputs": [
    {
     "name": "stdout",
     "output_type": "stream",
     "text": [
      "F-critical: 2.79\n",
      "F-calculated:  11.448496433877295\n"
     ]
    }
   ],
   "source": [
    "# anova test\n",
    "F, p = stats.f_oneway(df[df.calories==50].rating, df[df.calories==70].rating, df[df.calories==80].rating, df[df.calories==90].rating, df[df.calories==100].rating, df[df.calories==110].rating, df[df.calories==120].rating, df[df.calories==130].rating, df[df.calories==140].rating, df[df.calories==150].rating, df[df.calories==160].rating)\n",
    "print('F-critical: 2.79')\n",
    "print('F-calculated: ', F)"
   ]
  },
  {
   "cell_type": "markdown",
   "id": "8PkC7nI9srSL",
   "metadata": {
    "id": "8PkC7nI9srSL"
   },
   "source": [
    "As we can see, the calculate F-statistic value is greater than the critical F-statistic value for the dof. Hence, we reject the Null Hypothesis and accept the Alternate Hypothesis which states that the variables calories and rating are associated."
   ]
  },
  {
   "cell_type": "markdown",
   "id": "8JKH6sVeuRwj",
   "metadata": {
    "id": "8JKH6sVeuRwj"
   },
   "source": [
    "To visualize the relation, we find the mean ratings of all the values of calories and then make a scatterplot using the scatterplot() function from the Seaborn library."
   ]
  },
  {
   "cell_type": "code",
   "execution_count": 76,
   "id": "36a70a6f",
   "metadata": {
    "colab": {
     "base_uri": "https://localhost:8080/",
     "height": 282
    },
    "id": "36a70a6f",
    "outputId": "1ca5456e-f79d-4832-ab94-553a4c60d1d0"
   },
   "outputs": [
    {
     "data": {
      "text/plain": [
       "<Axes: >"
      ]
     },
     "execution_count": 76,
     "metadata": {},
     "output_type": "execute_result"
    },
    {
     "data": {
      "image/png": "[encoded data removed]",
      "text/plain": [
       "<Figure size 640x480 with 1 Axes>"
      ]
     },
     "metadata": {},
     "output_type": "display_data"
    }
   ],
   "source": [
    "# visualization\n",
    "ratings_mean = list(df.groupby(by='calories').rating.mean())\n",
    "calories = list(df.calories.unique())\n",
    "calories.sort()\n",
    "\n",
    "sns.scatterplot(x=calories, y=ratings_mean)"
   ]
  },
  {
   "cell_type": "markdown",
   "id": "eoQRTAJZub-a",
   "metadata": {
    "id": "eoQRTAJZub-a"
   },
   "source": [
    "As we can see, as the calories increase, the ratings decrease, indicating a negative correlation."
   ]
  },
  {
   "cell_type": "markdown",
   "id": "39a3e5b3",
   "metadata": {
    "id": "39a3e5b3"
   },
   "source": [
    "#### **Q12.** Use correlation tests and visualization to identify if the two variables shelf and calories associated?"
   ]
  },
  {
   "cell_type": "markdown",
   "id": "VzAa4SV9fY4w",
   "metadata": {
    "id": "VzAa4SV9fY4w"
   },
   "source": [
    "To solve Question 12, we use the Chi-Squared Test, since the variables calories and shelf are discrete. Here the Null Hypothesis is that the variables are independent, and the Alternate Hypothesis is that they are dependent.\n",
    "\n",
    "To do this, first we form a contingency table using the crosstab() function from the Pandas library."
   ]
  },
  {
   "cell_type": "code",
   "execution_count": 78,
   "id": "e1145e67",
   "metadata": {
    "colab": {
     "base_uri": "https://localhost:8080/",
     "height": 174
    },
    "id": "e1145e67",
    "outputId": "1620a3f5-e493-4178-9521-b579ee97849e"
   },
   "outputs": [
    {
     "data": {
      "text/html": [
       "<div>\n",
       "<style scoped>\n",
       "    .dataframe tbody tr th:only-of-type {\n",
       "        vertical-align: middle;\n",
       "    }\n",
       "\n",
       "    .dataframe tbody tr th {\n",
       "        vertical-align: top;\n",
       "    }\n",
       "\n",
       "    .dataframe thead th {\n",
       "        text-align: right;\n",
       "    }\n",
       "</style>\n",
       "<table border=\"1\" class=\"dataframe\">\n",
       "  <thead>\n",
       "    <tr style=\"text-align: right;\">\n",
       "      <th>calories</th>\n",
       "      <th>50</th>\n",
       "      <th>70</th>\n",
       "      <th>80</th>\n",
       "      <th>90</th>\n",
       "      <th>100</th>\n",
       "      <th>110</th>\n",
       "      <th>120</th>\n",
       "      <th>130</th>\n",
       "      <th>140</th>\n",
       "      <th>150</th>\n",
       "      <th>160</th>\n",
       "    </tr>\n",
       "    <tr>\n",
       "      <th>shelf</th>\n",
       "      <th></th>\n",
       "      <th></th>\n",
       "      <th></th>\n",
       "      <th></th>\n",
       "      <th></th>\n",
       "      <th></th>\n",
       "      <th></th>\n",
       "      <th></th>\n",
       "      <th></th>\n",
       "      <th></th>\n",
       "      <th></th>\n",
       "    </tr>\n",
       "  </thead>\n",
       "  <tbody>\n",
       "    <tr>\n",
       "      <th>1</th>\n",
       "      <td>0</td>\n",
       "      <td>0</td>\n",
       "      <td>1</td>\n",
       "      <td>3</td>\n",
       "      <td>6</td>\n",
       "      <td>10</td>\n",
       "      <td>0</td>\n",
       "      <td>0</td>\n",
       "      <td>0</td>\n",
       "      <td>0</td>\n",
       "      <td>0</td>\n",
       "    </tr>\n",
       "    <tr>\n",
       "      <th>2</th>\n",
       "      <td>0</td>\n",
       "      <td>0</td>\n",
       "      <td>0</td>\n",
       "      <td>1</td>\n",
       "      <td>4</td>\n",
       "      <td>11</td>\n",
       "      <td>5</td>\n",
       "      <td>0</td>\n",
       "      <td>0</td>\n",
       "      <td>0</td>\n",
       "      <td>0</td>\n",
       "    </tr>\n",
       "    <tr>\n",
       "      <th>3</th>\n",
       "      <td>3</td>\n",
       "      <td>1</td>\n",
       "      <td>0</td>\n",
       "      <td>3</td>\n",
       "      <td>7</td>\n",
       "      <td>8</td>\n",
       "      <td>5</td>\n",
       "      <td>2</td>\n",
       "      <td>3</td>\n",
       "      <td>2</td>\n",
       "      <td>1</td>\n",
       "    </tr>\n",
       "  </tbody>\n",
       "</table>\n",
       "</div>"
      ],
      "text/plain": [
       "calories  50   70   80   90   100  110  120  130  140  150  160\n",
       "shelf                                                          \n",
       "1           0    0    1    3    6   10    0    0    0    0    0\n",
       "2           0    0    0    1    4   11    5    0    0    0    0\n",
       "3           3    1    0    3    7    8    5    2    3    2    1"
      ]
     },
     "execution_count": 78,
     "metadata": {},
     "output_type": "execute_result"
    }
   ],
   "source": [
    "# chi-square test\n",
    "contingency = pd.crosstab(df.shelf, df.calories)\n",
    "contingency"
   ]
  },
  {
   "cell_type": "markdown",
   "id": "B8YmYWq_h7Mx",
   "metadata": {
    "id": "B8YmYWq_h7Mx"
   },
   "source": [
    "As we can see, on shelf:    \n",
    "*  1, there are 1 80 cal, 3 90 cal, 6 100 cal, and 10 110 cal cereals.\n",
    "*  2, there are 1 90 cal, 4 100 cal, 11 110 cal, and 5 120 cal cereals.\n",
    "*  3, there are 3 50 cal, 1 70 cal, 3 90 cal, 7 100 cal, 8 110 cal, 5 120 cal, 2 130 cal, 3 140 cal, 2 150 cal, and 1 160 cal cereals."
   ]
  },
  {
   "cell_type": "code",
   "execution_count": 80,
   "id": "a4d59d25",
   "metadata": {
    "colab": {
     "base_uri": "https://localhost:8080/",
     "height": 296
    },
    "id": "a4d59d25",
    "outputId": "52448884-492a-4ccf-c1b1-831b8c71872a"
   },
   "outputs": [
    {
     "data": {
      "text/plain": [
       "<Axes: xlabel='calories', ylabel='shelf'>"
      ]
     },
     "execution_count": 80,
     "metadata": {},
     "output_type": "execute_result"
    },
    {
     "data": {
      "image/png": "[encoded data removed]",
      "text/plain": [
       "<Figure size 640x480 with 2 Axes>"
      ]
     },
     "metadata": {},
     "output_type": "display_data"
    }
   ],
   "source": [
    "# visualization\n",
    "sns.heatmap(contingency, annot=True)"
   ]
  },
  {
   "cell_type": "markdown",
   "id": "4kWW59kDidg1",
   "metadata": {
    "id": "4kWW59kDidg1"
   },
   "source": [
    "As we can see, on shelf:    \n",
    "*  1, there are 1 80 cal, 3 90 cal, 6 100 cal, and 10 110 cal cereals.\n",
    "*  2, there are 1 90 cal, 4 100 cal, 11 110 cal, and 5 120 cal cereals.\n",
    "*  3, there are 3 50 cal, 1 70 cal, 3 90 cal, 7 100 cal, 8 110 cal, 5 120 cal, 2 130 cal, 3 140 cal, 2 150 cal, and 1 160 cal cereals."
   ]
  },
  {
   "cell_type": "markdown",
   "id": "kCl0_RuSifcg",
   "metadata": {
    "id": "kCl0_RuSifcg"
   },
   "source": [
    "Next, we perform the Chi-Squared Test using the chi2_contingency() function from the SciPy Stats library. "
   ]
  },
  {
   "cell_type": "code",
   "execution_count": 82,
   "id": "2f682e91",
   "metadata": {
    "colab": {
     "base_uri": "https://localhost:8080/"
    },
    "id": "2f682e91",
    "outputId": "44054a3d-0b1d-4a73-ef59-81b7349d5682"
   },
   "outputs": [
    {
     "name": "stdout",
     "output_type": "stream",
     "text": [
      "p-value:  0.12876294513924283\n"
     ]
    }
   ],
   "source": [
    "# chi-square test\n",
    "c, p, dof, expected = stats.chi2_contingency(contingency)\n",
    "print('p-value: ', p)"
   ]
  },
  {
   "cell_type": "markdown",
   "id": "UaRx2rLoieo3",
   "metadata": {
    "id": "UaRx2rLoieo3"
   },
   "source": [
    "Since the p-value returned is more than 0.05, we reject the Null Hypothesis, and accept the Alternate Hypothesis that states that the variables shelf and calories are related."
   ]
  },
  {
   "cell_type": "markdown",
   "id": "58915197",
   "metadata": {
    "id": "58915197"
   },
   "source": [
    "#### **Q13.** Is there a relation between manufacturer and rating?"
   ]
  },
  {
   "cell_type": "markdown",
   "id": "no_ehiWyi-HX",
   "metadata": {
    "id": "no_ehiWyi-HX"
   },
   "source": [
    "To solve Question 13, we use the ANOVA test, since one variable - manufacturer is categorical and one variable - rating is continuous. Here, the Null Hypothesis is that the ratings are not affected by the manufacturer (sample means are equal) and the Alternate Hypothesis is that the ratings are affected by the manufacturer (sample means are not equal). To do so, we use the f_oneway() function from the SciPy Stats library and group the ratings by manufacturer."
   ]
  },
  {
   "cell_type": "code",
   "execution_count": 84,
   "id": "a257427d",
   "metadata": {
    "colab": {
     "base_uri": "https://localhost:8080/"
    },
    "id": "a257427d",
    "outputId": "49bac82f-6d7d-491b-9495-6da7f41244e0"
   },
   "outputs": [
    {
     "name": "stdout",
     "output_type": "stream",
     "text": [
      "F-critical: 2.22\n",
      "F-calculated:  5.892057149371146\n"
     ]
    }
   ],
   "source": [
    "# anova test\n",
    "F, p = stats.f_oneway(df[df.mfr=='A'].rating, df[df.mfr=='G'].rating, df[df.mfr=='K'].rating, df[df.mfr=='N'].rating, df[df.mfr=='P'].rating, df[df.mfr=='Q'].rating, df[df.mfr=='R'].rating)\n",
    "print('F-critical: 2.22')\n",
    "print('F-calculated: ', F)"
   ]
  },
  {
   "cell_type": "markdown",
   "id": "lEaPCIySkNjn",
   "metadata": {
    "id": "lEaPCIySkNjn"
   },
   "source": [
    "As we can see, the calculate F-statistic value is greater than the critical F-statistic value for the dof. Hence, we reject the Null Hypothesis and accept the Alternate Hypothesis which states that the variables manufacturer and rating are associated."
   ]
  },
  {
   "cell_type": "markdown",
   "id": "be837cfa",
   "metadata": {
    "id": "be837cfa"
   },
   "source": [
    "#### **Q14.** Which nutrients are essential for a good rating for a cereal?"
   ]
  },
  {
   "cell_type": "markdown",
   "id": "qLw5ZCqIlMa4",
   "metadata": {
    "id": "qLw5ZCqIlMa4"
   },
   "source": [
    "To solve Question 14, we calculate the Pearson's correlation for the variables as all of them are continuous. To do this, we use the corr() function from the Pandas library."
   ]
  },
  {
   "cell_type": "code",
   "execution_count": 86,
   "id": "441dc205",
   "metadata": {
    "colab": {
     "base_uri": "https://localhost:8080/",
     "height": 331
    },
    "id": "441dc205",
    "outputId": "6b4c30c5-8655-4265-80fa-16af5f1164aa"
   },
   "outputs": [
    {
     "data": {
      "text/html": [
       "<div>\n",
       "<style scoped>\n",
       "    .dataframe tbody tr th:only-of-type {\n",
       "        vertical-align: middle;\n",
       "    }\n",
       "\n",
       "    .dataframe tbody tr th {\n",
       "        vertical-align: top;\n",
       "    }\n",
       "\n",
       "    .dataframe thead th {\n",
       "        text-align: right;\n",
       "    }\n",
       "</style>\n",
       "<table border=\"1\" class=\"dataframe\">\n",
       "  <thead>\n",
       "    <tr style=\"text-align: right;\">\n",
       "      <th></th>\n",
       "      <th>protein</th>\n",
       "      <th>fat</th>\n",
       "      <th>carbo</th>\n",
       "      <th>vitamins</th>\n",
       "      <th>sodium</th>\n",
       "      <th>sugars</th>\n",
       "      <th>potass</th>\n",
       "      <th>fiber</th>\n",
       "      <th>rating</th>\n",
       "    </tr>\n",
       "  </thead>\n",
       "  <tbody>\n",
       "    <tr>\n",
       "      <th>protein</th>\n",
       "      <td>1.000000</td>\n",
       "      <td>0.226913</td>\n",
       "      <td>-0.016296</td>\n",
       "      <td>NaN</td>\n",
       "      <td>-0.120710</td>\n",
       "      <td>-0.226812</td>\n",
       "      <td>0.671202</td>\n",
       "      <td>0.587843</td>\n",
       "      <td>0.466606</td>\n",
       "    </tr>\n",
       "    <tr>\n",
       "      <th>fat</th>\n",
       "      <td>0.226913</td>\n",
       "      <td>1.000000</td>\n",
       "      <td>-0.311619</td>\n",
       "      <td>NaN</td>\n",
       "      <td>-0.248478</td>\n",
       "      <td>0.300664</td>\n",
       "      <td>0.357102</td>\n",
       "      <td>0.135546</td>\n",
       "      <td>-0.418439</td>\n",
       "    </tr>\n",
       "    <tr>\n",
       "      <th>carbo</th>\n",
       "      <td>-0.016296</td>\n",
       "      <td>-0.311619</td>\n",
       "      <td>1.000000</td>\n",
       "      <td>NaN</td>\n",
       "      <td>0.444669</td>\n",
       "      <td>-0.501086</td>\n",
       "      <td>-0.093629</td>\n",
       "      <td>-0.109941</td>\n",
       "      <td>0.160944</td>\n",
       "    </tr>\n",
       "    <tr>\n",
       "      <th>vitamins</th>\n",
       "      <td>NaN</td>\n",
       "      <td>NaN</td>\n",
       "      <td>NaN</td>\n",
       "      <td>NaN</td>\n",
       "      <td>NaN</td>\n",
       "      <td>NaN</td>\n",
       "      <td>NaN</td>\n",
       "      <td>NaN</td>\n",
       "      <td>NaN</td>\n",
       "    </tr>\n",
       "    <tr>\n",
       "      <th>sodium</th>\n",
       "      <td>-0.120710</td>\n",
       "      <td>-0.248478</td>\n",
       "      <td>0.444669</td>\n",
       "      <td>NaN</td>\n",
       "      <td>1.000000</td>\n",
       "      <td>-0.288453</td>\n",
       "      <td>-0.158369</td>\n",
       "      <td>-0.124328</td>\n",
       "      <td>-0.050622</td>\n",
       "    </tr>\n",
       "    <tr>\n",
       "      <th>sugars</th>\n",
       "      <td>-0.226812</td>\n",
       "      <td>0.300664</td>\n",
       "      <td>-0.501086</td>\n",
       "      <td>NaN</td>\n",
       "      <td>-0.288453</td>\n",
       "      <td>1.000000</td>\n",
       "      <td>0.029548</td>\n",
       "      <td>-0.000180</td>\n",
       "      <td>-0.774195</td>\n",
       "    </tr>\n",
       "    <tr>\n",
       "      <th>potass</th>\n",
       "      <td>0.671202</td>\n",
       "      <td>0.357102</td>\n",
       "      <td>-0.093629</td>\n",
       "      <td>NaN</td>\n",
       "      <td>-0.158369</td>\n",
       "      <td>0.029548</td>\n",
       "      <td>1.000000</td>\n",
       "      <td>0.791170</td>\n",
       "      <td>0.210422</td>\n",
       "    </tr>\n",
       "    <tr>\n",
       "      <th>fiber</th>\n",
       "      <td>0.587843</td>\n",
       "      <td>0.135546</td>\n",
       "      <td>-0.109941</td>\n",
       "      <td>NaN</td>\n",
       "      <td>-0.124328</td>\n",
       "      <td>-0.000180</td>\n",
       "      <td>0.791170</td>\n",
       "      <td>1.000000</td>\n",
       "      <td>0.335319</td>\n",
       "    </tr>\n",
       "    <tr>\n",
       "      <th>rating</th>\n",
       "      <td>0.466606</td>\n",
       "      <td>-0.418439</td>\n",
       "      <td>0.160944</td>\n",
       "      <td>NaN</td>\n",
       "      <td>-0.050622</td>\n",
       "      <td>-0.774195</td>\n",
       "      <td>0.210422</td>\n",
       "      <td>0.335319</td>\n",
       "      <td>1.000000</td>\n",
       "    </tr>\n",
       "  </tbody>\n",
       "</table>\n",
       "</div>"
      ],
      "text/plain": [
       "           protein       fat     carbo  vitamins    sodium    sugars  \\\n",
       "protein   1.000000  0.226913 -0.016296       NaN -0.120710 -0.226812   \n",
       "fat       0.226913  1.000000 -0.311619       NaN -0.248478  0.300664   \n",
       "carbo    -0.016296 -0.311619  1.000000       NaN  0.444669 -0.501086   \n",
       "vitamins       NaN       NaN       NaN       NaN       NaN       NaN   \n",
       "sodium   -0.120710 -0.248478  0.444669       NaN  1.000000 -0.288453   \n",
       "sugars   -0.226812  0.300664 -0.501086       NaN -0.288453  1.000000   \n",
       "potass    0.671202  0.357102 -0.093629       NaN -0.158369  0.029548   \n",
       "fiber     0.587843  0.135546 -0.109941       NaN -0.124328 -0.000180   \n",
       "rating    0.466606 -0.418439  0.160944       NaN -0.050622 -0.774195   \n",
       "\n",
       "            potass     fiber    rating  \n",
       "protein   0.671202  0.587843  0.466606  \n",
       "fat       0.357102  0.135546 -0.418439  \n",
       "carbo    -0.093629 -0.109941  0.160944  \n",
       "vitamins       NaN       NaN       NaN  \n",
       "sodium   -0.158369 -0.124328 -0.050622  \n",
       "sugars    0.029548 -0.000180 -0.774195  \n",
       "potass    1.000000  0.791170  0.210422  \n",
       "fiber     0.791170  1.000000  0.335319  \n",
       "rating    0.210422  0.335319  1.000000  "
      ]
     },
     "execution_count": 86,
     "metadata": {},
     "output_type": "execute_result"
    }
   ],
   "source": [
    "# pearson's correlation\n",
    "corr = df[['protein', 'fat', 'carbo', 'vitamins', 'sodium', 'sugars', 'potass', 'fiber', 'rating']].corr()\n",
    "corr"
   ]
  },
  {
   "cell_type": "markdown",
   "id": "rtQMpQALl9Hc",
   "metadata": {
    "id": "rtQMpQALl9Hc"
   },
   "source": [
    "As we can see, the top 3 nutrients that affect the rating are sugars, protein and fat, having correlation coefficients -0.77 (high negative linear correlation), 0.46 (moderate positive linear correlation), and -0.41 (moderate negative linear correlation). The variable vitamin returns a NaN value, since after preprocessing, all the values turn to 25."
   ]
  },
  {
   "cell_type": "markdown",
   "id": "41bcce34",
   "metadata": {
    "id": "41bcce34"
   },
   "source": [
    "#### **Q15.** Design a Linear regression model to predict the rating of a cereal based on top 3 related nutrients. Tabulate the accuracy of the model using a 70 ,30 split"
   ]
  },
  {
   "cell_type": "markdown",
   "id": "HNRQusYQmhVX",
   "metadata": {
    "id": "HNRQusYQmhVX"
   },
   "source": [
    "To solve Question 15, we first split the data into dependent and independent variables x and y. x has the variables protein, fat, and sugars (from the previous question), and y has the variable rating."
   ]
  },
  {
   "cell_type": "code",
   "execution_count": 88,
   "id": "84ebbefa",
   "metadata": {
    "id": "84ebbefa"
   },
   "outputs": [],
   "source": [
    "# splitting dataset into dependent and independent variables\n",
    "x = df[['protein', 'fat', 'sugars']]\n",
    "y = df['rating']"
   ]
  },
  {
   "cell_type": "markdown",
   "id": "nAKSCQj3mz2U",
   "metadata": {
    "id": "nAKSCQj3mz2U"
   },
   "source": [
    "Next, we split the dataset into training and testing sets. To do this, we use the train_test_split() method from the sklearn.model_selection library. Here we, fix the training size to be 0.7 and random_state to be 109 to maintain consistency."
   ]
  },
  {
   "cell_type": "code",
   "execution_count": 90,
   "id": "0b9de851",
   "metadata": {
    "id": "0b9de851"
   },
   "outputs": [],
   "source": [
    "# splitting dataset into training and testing sets\n",
    "from sklearn.model_selection import train_test_split\n",
    "x_train, x_test, y_train, y_test = train_test_split(x, y, train_size = 0.7, random_state=109)"
   ]
  },
  {
   "cell_type": "markdown",
   "id": "HCT2G2V4nLLy",
   "metadata": {
    "id": "HCT2G2V4nLLy"
   },
   "source": [
    "Finally, we use the LinearRegression method from the sklearn.linear_model library to design a linear regression model by training it on the training sets and then predicting the score on the testing set."
   ]
  },
  {
   "cell_type": "code",
   "execution_count": 92,
   "id": "b1825d89",
   "metadata": {
    "colab": {
     "base_uri": "https://localhost:8080/"
    },
    "id": "b1825d89",
    "outputId": "75e9d88a-d819-4c28-d6e3-c54c487c3b47"
   },
   "outputs": [
    {
     "data": {
      "text/plain": [
       "0.8620479299423498"
      ]
     },
     "execution_count": 92,
     "metadata": {},
     "output_type": "execute_result"
    }
   ],
   "source": [
    "# training the model and calculating the score\n",
    "from sklearn.linear_model import LinearRegression\n",
    "model = LinearRegression()\n",
    "model.fit(x_train, y_train)\n",
    "model.score(x_test, y_test)"
   ]
  },
  {
   "cell_type": "markdown",
   "id": "WB8vF0lPniOS",
   "metadata": {
    "id": "WB8vF0lPniOS"
   },
   "source": [
    "As we can see, our model has a score 0f 0.86, which is very high. Hence, the model has high explanatory power and the variables protein, fat and sugars can predict the rating accurately."
   ]
  }
 ],
 "metadata": {
  "colab": {
   "collapsed_sections": [],
   "name": "Week3-KhusheeKapoor-200968052-Cereals.ipynb",
   "provenance": []
  },
  "kernelspec": {
   "display_name": "Python 3 (ipykernel)",
   "language": "python",
   "name": "python3"
  },
  "language_info": {
   "codemirror_mode": {
    "name": "ipython",
    "version": 3
   },
   "file_extension": ".py",
   "mimetype": "text/x-python",
   "name": "python",
   "nbconvert_exporter": "python",
   "pygments_lexer": "ipython3",
   "version": "3.12.4"
  }
 },
 "nbformat": 4,
 "nbformat_minor": 5
}
