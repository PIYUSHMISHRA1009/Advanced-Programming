{
 "cells": [
  {
   "cell_type": "markdown",
   "id": "D6Rm4ODI6_91",
   "metadata": {
    "id": "D6Rm4ODI6_91"
   },
   "source": [
    "## Data Frame Creation and Manipulation\n",
    "1.\tCreate a data frame with details of 10 students and columns as Roll Number, Name, Gender, Marks1, Marks2, Marks3.\r\n",
    "2.\tCreate a new column with total marks\r\n",
    "3.\tFind the lowest marks in Marks1\r\n",
    "4.\tFind the Highest marks in Marks2\r\n",
    "5.\tFind the average marks in Marks3\r\n",
    "6.\tFind student name with highest average\r\n",
    "7.\tFind how many students failed in Marks2 (<40)\r\n",
    "\n",
    "\n",
    "First, we download the python libraries we will be using in this notebook. The libraries we have used are:\n",
    "*   NumPy - for data manipulation\n",
    "*   Pandas - for data frame creation and manipulation\n",
    "*   MatPlotLib - for data visualization\n",
    "*   Seaborn - for data visualization\n"
   ]
  },
  {
   "cell_type": "code",
   "execution_count": 4,
   "id": "17e4715d",
   "metadata": {
    "id": "17e4715d"
   },
   "outputs": [],
   "source": [
    "# importing required libraries\n",
    "import numpy as np\n",
    "import pandas as pd\n",
    "from matplotlib import pyplot as plt\n",
    "import seaborn"
   ]
  },
  {
   "cell_type": "markdown",
   "id": "26H9Mxxn7Zfm",
   "metadata": {
    "id": "26H9Mxxn7Zfm"
   },
   "source": [
    "Next, we start solving the questions in the lab.\n"
   ]
  },
  {
   "cell_type": "markdown",
   "id": "MyUt5joR7f9z",
   "metadata": {
    "id": "MyUt5joR7f9z"
   },
   "source": [
    "#### **Q1.** Create a data frame with details of 10 students and columns as Roll Number, Name, Gender, Marks1, Marks2, Marks3."
   ]
  },
  {
   "cell_type": "markdown",
   "id": "NP-p9QwC7icC",
   "metadata": {
    "id": "NP-p9QwC7icC"
   },
   "source": [
    "To create a dataframe, we have first created a dictionary student_data with the following keys:     \n",
    "*   Roll_Number: a list of 10 integers which represent the roll nos. of 10 students in the class.\n",
    "*   Name: a list of 10 strings which represent the names of the 10 students in the class.\n",
    "*   Gender: a list of 10 characters which represent the genders of the 10 students in the class. Here, F stands for Female and M stands for Male.\n",
    "*   Marks1: a list of 10 integers which represent the scores the 10 students have scored in Subject 1. Here, the minimum marks a student can score is 0, and the maximum marks a student can score is 100.\n",
    "*   Marks2: a list of 10 integers which represent the scores the 10 students have scored in Subject 2. Here, the minimum marks a student can score is 0, and the maximum marks a student can score is 100.\n",
    "*   Marks3: a list of 10 integers which represent the scores the 10 students have scored in Subject 3. Here, the minimum marks a student can score is 0, and the maximum marks a student can score is 100.\n",
    "\n",
    "\n",
    "After creating the dictionary, we used the DataFrame() method from the Pandas library to convert the dictionary to a dataframe. Here, the keys become the column names and the value lists occupy the rows of the dataframe."
   ]
  },
  {
   "cell_type": "code",
   "execution_count": 6,
   "id": "01c42868",
   "metadata": {
    "id": "01c42868"
   },
   "outputs": [],
   "source": [
    "# 1. Creating Dataframe\n",
    "\n",
    "# creating the dictionary\n",
    "student_data = {\n",
    "    \n",
    "    # key Roll_Number to store the roll numbers of the students\n",
    "    'Roll_Number' : [1, 2, 3, 4, 5, 6, 7, 8, 9, 10],\n",
    "\n",
    "    # key Name to store the names of the students\n",
    "    'Name' : ['Monica', 'Rachel', 'Phoebe', 'Ross', 'Joey', 'Chandler', 'Jack', 'Judy', 'Emily', 'Richard'],\n",
    "\n",
    "    # key Gender to store the genders of the students\n",
    "    'Gender' : ['F', 'F', 'F', 'M', 'M', 'M', 'M', 'F', 'F', 'M'],\n",
    "\n",
    "    # key Marks1 to store the marks earned by the students in Subject1; Min Marks = 0, Max Marks = 100.\n",
    "    'Marks1' : [56, 90, 78, 66, 13, 67, 83, 22, 100, 94],\n",
    "\n",
    "    # key Marks2 to store the marks earned by the students in Subject2; Min Marks = 0, Max Marks = 100.\n",
    "    'Marks2' : [44, 89, 71, 23, 100, 87, 92, 65, 55, 43],\n",
    "\n",
    "    # key Marks3 to store the marks earned by the students in Subject3; Min Marks = 0, Max Marks = 100.\n",
    "    'Marks3' : [75, 18, 90, 56, 83, 21, 97, 9, 100, 44]\n",
    "}\n",
    "\n",
    "# converting the dictionary to a dataframe\n",
    "df = pd.DataFrame(student_data)"
   ]
  },
  {
   "cell_type": "markdown",
   "id": "oDkrmZB88n_A",
   "metadata": {
    "id": "oDkrmZB88n_A"
   },
   "source": [
    "After creating the dataframe, we view it to check whether the dataframe has been created successfully."
   ]
  },
  {
   "cell_type": "code",
   "execution_count": 12,
   "id": "d1e0de9e",
   "metadata": {
    "colab": {
     "base_uri": "https://localhost:8080/",
     "height": 357
    },
    "id": "d1e0de9e",
    "outputId": "e92396f0-f14a-4da6-db32-97808b9ab7f7"
   },
   "outputs": [
    {
     "data": {
      "text/html": [
       "<div>\n",
       "<style scoped>\n",
       "    .dataframe tbody tr th:only-of-type {\n",
       "        vertical-align: middle;\n",
       "    }\n",
       "\n",
       "    .dataframe tbody tr th {\n",
       "        vertical-align: top;\n",
       "    }\n",
       "\n",
       "    .dataframe thead th {\n",
       "        text-align: right;\n",
       "    }\n",
       "</style>\n",
       "<table border=\"1\" class=\"dataframe\">\n",
       "  <thead>\n",
       "    <tr style=\"text-align: right;\">\n",
       "      <th></th>\n",
       "      <th>Roll_Number</th>\n",
       "      <th>Name</th>\n",
       "      <th>Gender</th>\n",
       "      <th>Marks1</th>\n",
       "      <th>Marks2</th>\n",
       "      <th>Marks3</th>\n",
       "    </tr>\n",
       "  </thead>\n",
       "  <tbody>\n",
       "    <tr>\n",
       "      <th>0</th>\n",
       "      <td>1</td>\n",
       "      <td>Monica</td>\n",
       "      <td>F</td>\n",
       "      <td>56</td>\n",
       "      <td>44</td>\n",
       "      <td>75</td>\n",
       "    </tr>\n",
       "    <tr>\n",
       "      <th>1</th>\n",
       "      <td>2</td>\n",
       "      <td>Rachel</td>\n",
       "      <td>F</td>\n",
       "      <td>90</td>\n",
       "      <td>89</td>\n",
       "      <td>18</td>\n",
       "    </tr>\n",
       "    <tr>\n",
       "      <th>2</th>\n",
       "      <td>3</td>\n",
       "      <td>Phoebe</td>\n",
       "      <td>F</td>\n",
       "      <td>78</td>\n",
       "      <td>71</td>\n",
       "      <td>90</td>\n",
       "    </tr>\n",
       "    <tr>\n",
       "      <th>3</th>\n",
       "      <td>4</td>\n",
       "      <td>Ross</td>\n",
       "      <td>M</td>\n",
       "      <td>66</td>\n",
       "      <td>23</td>\n",
       "      <td>56</td>\n",
       "    </tr>\n",
       "    <tr>\n",
       "      <th>4</th>\n",
       "      <td>5</td>\n",
       "      <td>Joey</td>\n",
       "      <td>M</td>\n",
       "      <td>13</td>\n",
       "      <td>100</td>\n",
       "      <td>83</td>\n",
       "    </tr>\n",
       "    <tr>\n",
       "      <th>5</th>\n",
       "      <td>6</td>\n",
       "      <td>Chandler</td>\n",
       "      <td>M</td>\n",
       "      <td>67</td>\n",
       "      <td>87</td>\n",
       "      <td>21</td>\n",
       "    </tr>\n",
       "    <tr>\n",
       "      <th>6</th>\n",
       "      <td>7</td>\n",
       "      <td>Jack</td>\n",
       "      <td>M</td>\n",
       "      <td>83</td>\n",
       "      <td>92</td>\n",
       "      <td>97</td>\n",
       "    </tr>\n",
       "    <tr>\n",
       "      <th>7</th>\n",
       "      <td>8</td>\n",
       "      <td>Judy</td>\n",
       "      <td>F</td>\n",
       "      <td>22</td>\n",
       "      <td>65</td>\n",
       "      <td>9</td>\n",
       "    </tr>\n",
       "    <tr>\n",
       "      <th>8</th>\n",
       "      <td>9</td>\n",
       "      <td>Emily</td>\n",
       "      <td>F</td>\n",
       "      <td>100</td>\n",
       "      <td>55</td>\n",
       "      <td>100</td>\n",
       "    </tr>\n",
       "    <tr>\n",
       "      <th>9</th>\n",
       "      <td>10</td>\n",
       "      <td>Richard</td>\n",
       "      <td>M</td>\n",
       "      <td>94</td>\n",
       "      <td>43</td>\n",
       "      <td>44</td>\n",
       "    </tr>\n",
       "  </tbody>\n",
       "</table>\n",
       "</div>"
      ],
      "text/plain": [
       "   Roll_Number      Name Gender  Marks1  Marks2  Marks3\n",
       "0            1    Monica      F      56      44      75\n",
       "1            2    Rachel      F      90      89      18\n",
       "2            3    Phoebe      F      78      71      90\n",
       "3            4      Ross      M      66      23      56\n",
       "4            5      Joey      M      13     100      83\n",
       "5            6  Chandler      M      67      87      21\n",
       "6            7      Jack      M      83      92      97\n",
       "7            8      Judy      F      22      65       9\n",
       "8            9     Emily      F     100      55     100\n",
       "9           10   Richard      M      94      43      44"
      ]
     },
     "execution_count": 12,
     "metadata": {},
     "output_type": "execute_result"
    }
   ],
   "source": [
    "# viewing the dataframe\n",
    "df"
   ]
  },
  {
   "cell_type": "code",
   "execution_count": null,
   "id": "00f3a292-db43-4ebc-9ae9-aaf1025e9449",
   "metadata": {},
   "outputs": [],
   "source": []
  },
  {
   "cell_type": "markdown",
   "id": "vEkmKP9Z9DLX",
   "metadata": {
    "id": "vEkmKP9Z9DLX"
   },
   "source": [
    "#### **Q2.** Create a new column with total marks."
   ]
  },
  {
   "cell_type": "markdown",
   "id": "goX4MbrA9Hps",
   "metadata": {
    "id": "goX4MbrA9Hps"
   },
   "source": [
    "To solve Question 2, we create a new column in the dataframe to store the total marks earned by a student. To do this, we add the three columns - Marks1, Marks2, and Marks3 and store the result in a column called Total_Marks."
   ]
  },
  {
   "cell_type": "code",
   "execution_count": 31,
   "id": "31c84caa",
   "metadata": {
    "colab": {
     "base_uri": "https://localhost:8080/",
     "height": 357
    },
    "id": "31c84caa",
    "outputId": "15243847-a722-471b-e24e-07b3f445fd73"
   },
   "outputs": [
    {
     "data": {
      "text/html": [
       "<div>\n",
       "<style scoped>\n",
       "    .dataframe tbody tr th:only-of-type {\n",
       "        vertical-align: middle;\n",
       "    }\n",
       "\n",
       "    .dataframe tbody tr th {\n",
       "        vertical-align: top;\n",
       "    }\n",
       "\n",
       "    .dataframe thead th {\n",
       "        text-align: right;\n",
       "    }\n",
       "</style>\n",
       "<table border=\"1\" class=\"dataframe\">\n",
       "  <thead>\n",
       "    <tr style=\"text-align: right;\">\n",
       "      <th></th>\n",
       "      <th>Roll_Number</th>\n",
       "      <th>Name</th>\n",
       "      <th>Gender</th>\n",
       "      <th>Marks1</th>\n",
       "      <th>Marks2</th>\n",
       "      <th>Marks3</th>\n",
       "      <th>Total_Marks</th>\n",
       "    </tr>\n",
       "  </thead>\n",
       "  <tbody>\n",
       "    <tr>\n",
       "      <th>0</th>\n",
       "      <td>1</td>\n",
       "      <td>Monica</td>\n",
       "      <td>F</td>\n",
       "      <td>56</td>\n",
       "      <td>44</td>\n",
       "      <td>75</td>\n",
       "      <td>175</td>\n",
       "    </tr>\n",
       "    <tr>\n",
       "      <th>1</th>\n",
       "      <td>2</td>\n",
       "      <td>Rachel</td>\n",
       "      <td>F</td>\n",
       "      <td>90</td>\n",
       "      <td>89</td>\n",
       "      <td>18</td>\n",
       "      <td>197</td>\n",
       "    </tr>\n",
       "    <tr>\n",
       "      <th>2</th>\n",
       "      <td>3</td>\n",
       "      <td>Phoebe</td>\n",
       "      <td>F</td>\n",
       "      <td>78</td>\n",
       "      <td>71</td>\n",
       "      <td>90</td>\n",
       "      <td>239</td>\n",
       "    </tr>\n",
       "    <tr>\n",
       "      <th>3</th>\n",
       "      <td>4</td>\n",
       "      <td>Ross</td>\n",
       "      <td>M</td>\n",
       "      <td>66</td>\n",
       "      <td>23</td>\n",
       "      <td>56</td>\n",
       "      <td>145</td>\n",
       "    </tr>\n",
       "    <tr>\n",
       "      <th>4</th>\n",
       "      <td>5</td>\n",
       "      <td>Joey</td>\n",
       "      <td>M</td>\n",
       "      <td>13</td>\n",
       "      <td>100</td>\n",
       "      <td>83</td>\n",
       "      <td>196</td>\n",
       "    </tr>\n",
       "    <tr>\n",
       "      <th>5</th>\n",
       "      <td>6</td>\n",
       "      <td>Chandler</td>\n",
       "      <td>M</td>\n",
       "      <td>67</td>\n",
       "      <td>87</td>\n",
       "      <td>21</td>\n",
       "      <td>175</td>\n",
       "    </tr>\n",
       "    <tr>\n",
       "      <th>6</th>\n",
       "      <td>7</td>\n",
       "      <td>Jack</td>\n",
       "      <td>M</td>\n",
       "      <td>83</td>\n",
       "      <td>92</td>\n",
       "      <td>97</td>\n",
       "      <td>272</td>\n",
       "    </tr>\n",
       "    <tr>\n",
       "      <th>7</th>\n",
       "      <td>8</td>\n",
       "      <td>Judy</td>\n",
       "      <td>F</td>\n",
       "      <td>22</td>\n",
       "      <td>65</td>\n",
       "      <td>9</td>\n",
       "      <td>96</td>\n",
       "    </tr>\n",
       "    <tr>\n",
       "      <th>8</th>\n",
       "      <td>9</td>\n",
       "      <td>Emily</td>\n",
       "      <td>F</td>\n",
       "      <td>100</td>\n",
       "      <td>55</td>\n",
       "      <td>100</td>\n",
       "      <td>255</td>\n",
       "    </tr>\n",
       "    <tr>\n",
       "      <th>9</th>\n",
       "      <td>10</td>\n",
       "      <td>Richard</td>\n",
       "      <td>M</td>\n",
       "      <td>94</td>\n",
       "      <td>43</td>\n",
       "      <td>44</td>\n",
       "      <td>181</td>\n",
       "    </tr>\n",
       "  </tbody>\n",
       "</table>\n",
       "</div>"
      ],
      "text/plain": [
       "   Roll_Number      Name Gender  Marks1  Marks2  Marks3  Total_Marks\n",
       "0            1    Monica      F      56      44      75          175\n",
       "1            2    Rachel      F      90      89      18          197\n",
       "2            3    Phoebe      F      78      71      90          239\n",
       "3            4      Ross      M      66      23      56          145\n",
       "4            5      Joey      M      13     100      83          196\n",
       "5            6  Chandler      M      67      87      21          175\n",
       "6            7      Jack      M      83      92      97          272\n",
       "7            8      Judy      F      22      65       9           96\n",
       "8            9     Emily      F     100      55     100          255\n",
       "9           10   Richard      M      94      43      44          181"
      ]
     },
     "execution_count": 31,
     "metadata": {},
     "output_type": "execute_result"
    }
   ],
   "source": [
    "# 2. Creating Columm Total Marks\n",
    "\n",
    "# creating a new column Total_Marks to store the sum of data stored in columns Marks1, Marks2, and Marks3\n",
    "df['Total_Marks'] = df.Marks1 + df.Marks2 + df.Marks3\n",
    "\n",
    "# viewing the dataframe\n",
    "df"
   ]
  },
  {
   "cell_type": "markdown",
   "id": "wkkqml3E-e6z",
   "metadata": {
    "id": "wkkqml3E-e6z"
   },
   "source": [
    "#### **Q3.** Find the lowest marks in Marks1."
   ]
  },
  {
   "cell_type": "markdown",
   "id": "HtnFwThA-i5M",
   "metadata": {
    "id": "HtnFwThA-i5M"
   },
   "source": [
    "To solve Question 3, we use the min() function from the Pandas library on the column Marks1 of the dataframe.\n",
    "\n"
   ]
  },
  {
   "cell_type": "code",
   "execution_count": 33,
   "id": "d159568e",
   "metadata": {
    "colab": {
     "base_uri": "https://localhost:8080/"
    },
    "id": "d159568e",
    "outputId": "ba6c1c32-667a-42e3-ca84-073428748fcb"
   },
   "outputs": [
    {
     "data": {
      "text/plain": [
       "13"
      ]
     },
     "execution_count": 33,
     "metadata": {},
     "output_type": "execute_result"
    }
   ],
   "source": [
    "# 3. Finding lowest marks in Marks1\n",
    "df.Marks1.min()"
   ]
  },
  {
   "cell_type": "markdown",
   "id": "jkRo0vEa4fvx",
   "metadata": {
    "id": "jkRo0vEa4fvx"
   },
   "source": [
    "As we can see, the lowest marks in Marks1 is 13."
   ]
  },
  {
   "cell_type": "markdown",
   "id": "hreE1cSg_Mg4",
   "metadata": {
    "id": "hreE1cSg_Mg4"
   },
   "source": [
    "#### **Q4.** Find the Highest marks in Marks2."
   ]
  },
  {
   "cell_type": "markdown",
   "id": "aUxdaRe0_RB8",
   "metadata": {
    "id": "aUxdaRe0_RB8"
   },
   "source": [
    "To solve Question 4, we use the max() function from the Pandas library on the column Marks2 of the dataframe."
   ]
  },
  {
   "cell_type": "code",
   "execution_count": 35,
   "id": "66c26308",
   "metadata": {
    "colab": {
     "base_uri": "https://localhost:8080/"
    },
    "id": "66c26308",
    "outputId": "fb2165b9-f030-4610-85d3-c9b6055731ae"
   },
   "outputs": [
    {
     "data": {
      "text/plain": [
       "100"
      ]
     },
     "execution_count": 35,
     "metadata": {},
     "output_type": "execute_result"
    }
   ],
   "source": [
    "# 4. Finding highest marks in Marks2\n",
    "df.Marks2.max()"
   ]
  },
  {
   "cell_type": "markdown",
   "id": "WZgd-xS74kep",
   "metadata": {
    "id": "WZgd-xS74kep"
   },
   "source": [
    "As we can see, the highest marks in Marks2 is 100."
   ]
  },
  {
   "cell_type": "markdown",
   "id": "AFZLCjW1PrYy",
   "metadata": {
    "id": "AFZLCjW1PrYy"
   },
   "source": [
    "#### **Q5.** Find the average marks in Marks3."
   ]
  },
  {
   "cell_type": "markdown",
   "id": "6so66riGP8qp",
   "metadata": {
    "id": "6so66riGP8qp"
   },
   "source": [
    "To solve Question 5, we use the mean() function from the Pandas library on the column Marks3 of the dataframe."
   ]
  },
  {
   "cell_type": "code",
   "execution_count": 37,
   "id": "870eaa09",
   "metadata": {
    "colab": {
     "base_uri": "https://localhost:8080/"
    },
    "id": "870eaa09",
    "outputId": "d13466fa-8be9-42b8-fa66-1603b8f6c990"
   },
   "outputs": [
    {
     "data": {
      "text/plain": [
       "59.3"
      ]
     },
     "execution_count": 37,
     "metadata": {},
     "output_type": "execute_result"
    }
   ],
   "source": [
    "# 5. Finding average marks in Marks3\n",
    "df.Marks3.mean()"
   ]
  },
  {
   "cell_type": "markdown",
   "id": "-CrrmoC34oL1",
   "metadata": {
    "id": "-CrrmoC34oL1"
   },
   "source": [
    "As we can see, the average marks in Marks3 is 59.3."
   ]
  },
  {
   "cell_type": "markdown",
   "id": "SjFlBHJ4Q6Av",
   "metadata": {
    "id": "SjFlBHJ4Q6Av"
   },
   "source": [
    "#### **Q6.** Find student name with highest average."
   ]
  },
  {
   "cell_type": "markdown",
   "id": "Dinn2CFERaZ2",
   "metadata": {
    "id": "Dinn2CFERaZ2"
   },
   "source": [
    "To solve Question 6, we filter the dataframe with the condition that the Total_Marks observation matches the maximum value of the Total_Marks. In this filtered dataframe, we check the observation in the Name column. Note: the student with the highest marks will have the highest average as average = total/3."
   ]
  },
  {
   "cell_type": "code",
   "execution_count": 39,
   "id": "d15cd3a2",
   "metadata": {
    "colab": {
     "base_uri": "https://localhost:8080/"
    },
    "id": "d15cd3a2",
    "outputId": "aed4a029-656d-4b0d-eeb8-2ed87cce8f60"
   },
   "outputs": [
    {
     "data": {
      "text/plain": [
       "6    Jack\n",
       "Name: Name, dtype: object"
      ]
     },
     "execution_count": 39,
     "metadata": {},
     "output_type": "execute_result"
    }
   ],
   "source": [
    "# 6. Finding student with highest average\n",
    "df[df.Total_Marks==df.Total_Marks.max()].Name"
   ]
  },
  {
   "cell_type": "markdown",
   "id": "zaQfuB9H4rli",
   "metadata": {
    "id": "zaQfuB9H4rli"
   },
   "source": [
    "As we can see, the student with the highest average (the student with the highest total will have the highest average as average=total/3) is Jack."
   ]
  },
  {
   "cell_type": "markdown",
   "id": "FHon7nhURSgW",
   "metadata": {
    "id": "FHon7nhURSgW"
   },
   "source": [
    "#### **Q7.** Find how many students failed in Marks2 (<40)."
   ]
  },
  {
   "cell_type": "markdown",
   "id": "QDjiGUjMUyTx",
   "metadata": {
    "id": "QDjiGUjMUyTx"
   },
   "source": [
    "To solve Question 7, we filter the dataframe with the condition that the Marks2 observation is less than 40. Then we apply the len() function to the filtered dataframe to find the length/ number of rows/ number of students who failed."
   ]
  },
  {
   "cell_type": "code",
   "execution_count": 41,
   "id": "d7efe39a",
   "metadata": {
    "colab": {
     "base_uri": "https://localhost:8080/"
    },
    "id": "d7efe39a",
    "outputId": "6709bd0d-9db4-4033-b3e2-6c7476e65b37"
   },
   "outputs": [
    {
     "data": {
      "text/plain": [
       "1"
      ]
     },
     "execution_count": 41,
     "metadata": {},
     "output_type": "execute_result"
    }
   ],
   "source": [
    "# 7. Finding number of students who failed in Marks2\n",
    "len(df[df.Marks2<40])"
   ]
  },
  {
   "cell_type": "markdown",
   "id": "XT4s8S9641hy",
   "metadata": {
    "id": "XT4s8S9641hy"
   },
   "source": [
    "As we can see, the number of students who failed in Marks2 (scored less than 40) is 1."
   ]
  }
 ],
 "metadata": {
  "colab": {
   "collapsed_sections": [],
   "name": "Exercise 2.ipynb",
   "provenance": []
  },
  "kernelspec": {
   "display_name": "Python 3 (ipykernel)",
   "language": "python",
   "name": "python3"
  },
  "language_info": {
   "codemirror_mode": {
    "name": "ipython",
    "version": 3
   },
   "file_extension": ".py",
   "mimetype": "text/x-python",
   "name": "python",
   "nbconvert_exporter": "python",
   "pygments_lexer": "ipython3",
   "version": "3.12.4"
  }
 },
 "nbformat": 4,
 "nbformat_minor": 5
}
