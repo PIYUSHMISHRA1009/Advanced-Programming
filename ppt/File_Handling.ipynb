{
 "cells": [
  {
   "cell_type": "markdown",
   "id": "80ce3e5f-4178-4ad3-9f82-87b66388fc37",
   "metadata": {},
   "source": [
    "## File Handling\n",
    "So far we have seen different Python data types. We usually store our data in different file formats. In addition to handling files, we will also see different file formats(.txt, .json, .xml, .csv, .tsv, .excel) in this section. First, let us get familiar with handling files with common file format(.txt).\n",
    "\n",
    "File handling is an import part of programming which allows us to create, read, update and delete files. In Python to handle data we use open() built-in function.ages)"
   ]
  },
  {
   "cell_type": "markdown",
   "id": "c33d21fa-4abf-4536-8c51-d39b2925909c",
   "metadata": {},
   "source": [
    "### Syntax\n",
    "##### open('filename', mode) # mode(r, a, w, x, t,b)  could be to read, write, update\n",
    "\n",
    "- \"r\" - Read - Default value. Opens a file for reading, it returns an error if the file does not exist\n",
    "- \"a\" - Append - Opens a file for appending, creates the file if it does not exist\n",
    "- \"w\" - Write - Opens a file for writing, creates the file if it does not exist\n",
    "- \"x\" - Create - Creates the specified file, returns an error if the file exists\n",
    "- \"t\" - Text - Default value. Text mode\n",
    "- \"b\" - Binary - Binary mode (e.g. images)"
   ]
  },
  {
   "cell_type": "markdown",
   "id": "edf7cef9-ad09-4b09-b596-934414e8c09d",
   "metadata": {},
   "source": [
    "### Opening Files for Reading\n",
    "The default mode of open is reading, so we do not have to specify 'r' or 'rt'. I have created and saved a file named reading_file_example.txt in the files directory. Let us see how it is done:"
   ]
  },
  {
   "cell_type": "code",
   "execution_count": 115,
   "id": "c91191be-efd2-4ba5-a317-545d9b8ecfc2",
   "metadata": {},
   "outputs": [
    {
     "name": "stdout",
     "output_type": "stream",
     "text": [
      "<_io.TextIOWrapper name='sample.txt' mode='r' encoding='cp1252'>\n"
     ]
    }
   ],
   "source": [
    "f = open('sample.txt')\n",
    "print(f)"
   ]
  },
  {
   "cell_type": "markdown",
   "id": "f53091e8-31f9-43f1-8b14-e693403e0b6b",
   "metadata": {},
   "source": [
    "As you can see in the example above, I printed the opened file and it gave some information about it. Opened file has different reading methods: read(), readline, readlines. An opened file has to be closed with \"close()\" method.\n",
    "\n",
    "read(): read the whole text as string. If we want to limit the number of characters we want to read, we can limit it by passing int value to the read(number) method."
   ]
  },
  {
   "cell_type": "code",
   "execution_count": 117,
   "id": "b78374e7-6daf-4d9d-9017-6d659a2ed504",
   "metadata": {},
   "outputs": [
    {
     "name": "stdout",
     "output_type": "stream",
     "text": [
      "<class 'str'>\n",
      "What is Lorem Ipsum?\n",
      "Lorem Ipsum is simply dummy text of the printing and typesetting industry. Lorem Ipsum has been the industry's standard dummy text ever since the 1500s, when an unknown printer took a galley of type and scrambled it to make a type specimen book. \n",
      "\n",
      "It has survived not only five centuries, but also the leap into electronic typesetting, remaining essentially unchanged. It was popularised in the 1960s with the release of Letraset sheets containing Lorem Ipsum passages, and more recently with desktop publishing software like Aldus PageMaker including versions of Lorem Ipsum.\n"
     ]
    }
   ],
   "source": [
    "txt = f.read()\n",
    "print(type(txt))\n",
    "print(txt)\n",
    "f.close()"
   ]
  },
  {
   "cell_type": "markdown",
   "id": "c3f4c6f6-3782-4379-953a-135680b91de4",
   "metadata": {},
   "source": [
    "##### Instead of printing all the text, let us print the first 10 characters of the text file."
   ]
  },
  {
   "cell_type": "code",
   "execution_count": 123,
   "id": "635ee558-e8e4-4294-87c1-5ca8283ca37c",
   "metadata": {},
   "outputs": [
    {
     "name": "stdout",
     "output_type": "stream",
     "text": [
      "<class 'str'>\n",
      "What is Lo\n"
     ]
    }
   ],
   "source": [
    "f = open('sample.txt')\n",
    "txt = f.read(10)\n",
    "print(type(txt))\n",
    "print(txt)\n",
    "f.close()"
   ]
  },
  {
   "cell_type": "markdown",
   "id": "ecd522f0-19cc-4086-bdd4-914f7ae929bd",
   "metadata": {},
   "source": [
    "##### readline(): read only the first line"
   ]
  },
  {
   "cell_type": "code",
   "execution_count": 125,
   "id": "e0c5cf9e-fe69-4486-93b8-951ec9f6098d",
   "metadata": {},
   "outputs": [
    {
     "name": "stdout",
     "output_type": "stream",
     "text": [
      "<class 'str'>\n",
      "What is Lorem Ipsum?\n",
      "\n"
     ]
    }
   ],
   "source": [
    "f = open('sample.txt')\n",
    "line = f.readline()\n",
    "print(type(line))\n",
    "print(line)\n",
    "f.close()"
   ]
  },
  {
   "cell_type": "markdown",
   "id": "46899f6d-689d-4442-a90f-87ea23ca72ca",
   "metadata": {},
   "source": [
    "##### splitlines(): Get all the lines as a list is using"
   ]
  },
  {
   "cell_type": "code",
   "execution_count": 20,
   "id": "3d8d5fb4-f2f4-4883-96a5-9bf77ac37464",
   "metadata": {},
   "outputs": [
    {
     "name": "stdout",
     "output_type": "stream",
     "text": [
      "<class 'list'>\n",
      "['What is Lorem Ipsum?', \"Lorem Ipsum is simply dummy text of the printing and typesetting industry. Lorem Ipsum has been the industry's standard dummy text ever since the 1500s, when an unknown printer took a galley of type and scrambled it to make a type specimen book. \", '', 'It has survived not only five centuries, but also the leap into electronic typesetting, remaining essentially unchanged. It was popularised in the 1960s with the release of Letraset sheets containing Lorem Ipsum passages, and more recently with desktop publishing software like Aldus PageMaker including versions of Lorem Ipsum.']\n"
     ]
    }
   ],
   "source": [
    "f = open('sample.txt')\n",
    "lines = f.read().splitlines()\n",
    "print(type(lines))\n",
    "print(lines)\n",
    "f.close()"
   ]
  },
  {
   "cell_type": "markdown",
   "id": "6eaf9523-65e7-4e9f-bc41-b71e06741c28",
   "metadata": {},
   "source": [
    "#### Opening Files for Writing and Updating\n",
    "To write to an existing file, we must add a mode as parameter to the open() function:\n",
    "\n",
    "- \"a\" - append - will append to the end of the file, if the file does not it creates a new file.\n",
    "- \"w\" - write - will overwrite any existing content, if the file does not exist it creates."
   ]
  },
  {
   "cell_type": "code",
   "execution_count": 127,
   "id": "bc7eac09-3f50-4225-b574-d563e9f35029",
   "metadata": {},
   "outputs": [],
   "source": [
    "#append some text to the file we have been reading\n",
    "\n",
    "with open('sample.txt','a') as f:\n",
    "    f.write('This text has to be appended at the end of the line')"
   ]
  },
  {
   "cell_type": "code",
   "execution_count": 131,
   "id": "1ba72242-9d8a-415d-9a55-86cb17faa86f",
   "metadata": {},
   "outputs": [],
   "source": [
    "#The method below creates a new file, if the file does not exist\n",
    "with open('sample1.txt','w') as f:\n",
    "    f.write('This text will be written in a newly created file')"
   ]
  },
  {
   "cell_type": "markdown",
   "id": "96e8eeb5-330d-4a05-8081-46bf78359510",
   "metadata": {},
   "source": [
    "#### Deleting Files\n",
    "If we want to remove a file we use os module."
   ]
  },
  {
   "cell_type": "code",
   "execution_count": 133,
   "id": "eb9a5d6e-b097-469d-9fe0-4113d207b9a8",
   "metadata": {},
   "outputs": [],
   "source": [
    "import os\n",
    "os.remove('sample1.txt')"
   ]
  },
  {
   "cell_type": "markdown",
   "id": "3ba4af76-49ad-4862-877f-7807e22997e3",
   "metadata": {},
   "source": [
    "If the file does not exist, the remove method will raise an error, so it is good to use a condition like this:"
   ]
  },
  {
   "cell_type": "code",
   "execution_count": 53,
   "id": "a9e998f2-17b7-4a55-a07f-ce2a5c83ac5d",
   "metadata": {},
   "outputs": [
    {
     "name": "stdout",
     "output_type": "stream",
     "text": [
      "The file does not exist\n"
     ]
    }
   ],
   "source": [
    "import os\n",
    "if os.path.exists('sample1.txt'):\n",
    "    os.remove('sample1.txt')\n",
    "else:\n",
    "    print('The file does not exist')"
   ]
  },
  {
   "cell_type": "markdown",
   "id": "93024271-c956-456e-984b-0dd0b90c51fd",
   "metadata": {},
   "source": [
    "## File Types\n",
    "\n",
    "#### File with txt Extension\n",
    "File with txt extension is a very common form of data and we have covered it in the previous section. Let us move to the JSON file\n",
    "\n",
    "#### File with json Extension\n",
    "JSON stands for JavaScript Object Notation. Actually, it is a stringified JavaScript object or Python dictionary."
   ]
  },
  {
   "cell_type": "code",
   "execution_count": 64,
   "id": "184c4366-6332-4226-9f3f-811e88099a83",
   "metadata": {},
   "outputs": [
    {
     "name": "stdout",
     "output_type": "stream",
     "text": [
      "{'name': 'Asabeneh', 'country': 'Finland', 'city': 'Helsinki', 'skills': ['JavaScrip', 'React', 'Python']}\n",
      "{'name': 'Asabeneh', 'country': 'Finland', 'city': 'Helsinki', 'skills': ['JavaScrip', 'React', 'Python']}\n",
      "{\n",
      "    \"name\":\"Asabeneh\",\n",
      "    \"country\":\"Finland\",\n",
      "    \"city\":\"Helsinki\",\n",
      "    \"skills\":[\"JavaScrip\", \"React\",\"Python\"]\n",
      "}\n"
     ]
    }
   ],
   "source": [
    "# dictionary\n",
    "person_dct= {\n",
    "    \"name\":\"Asabeneh\",\n",
    "    \"country\":\"Finland\",\n",
    "    \"city\":\"Helsinki\",\n",
    "    \"skills\":[\"JavaScrip\", \"React\",\"Python\"]\n",
    "}\n",
    "# JSON: A string form a dictionary\n",
    "person_json = \"{'name': 'Asabeneh', 'country': 'Finland', 'city': 'Helsinki', 'skills': ['JavaScrip', 'React', 'Python']}\"\n",
    "\n",
    "# we use three quotes and make it multiple line to make it more readable\n",
    "person_json1 = '''{\n",
    "    \"name\":\"Asabeneh\",\n",
    "    \"country\":\"Finland\",\n",
    "    \"city\":\"Helsinki\",\n",
    "    \"skills\":[\"JavaScrip\", \"React\",\"Python\"]\n",
    "}'''\n",
    "\n",
    "print(person_dct)\n",
    "print(person_json)\n",
    "print(person_json1)"
   ]
  },
  {
   "cell_type": "markdown",
   "id": "8cb4f554-2414-4c25-9950-173b53cf604d",
   "metadata": {},
   "source": [
    "#### Changing JSON to Dictionary\n",
    "To change a JSON to a dictionary, first we import the json module and then we use loads method."
   ]
  },
  {
   "cell_type": "code",
   "execution_count": 67,
   "id": "31b95ffe-a101-4475-b3cf-91ee404a6412",
   "metadata": {},
   "outputs": [
    {
     "name": "stdout",
     "output_type": "stream",
     "text": [
      "<class 'dict'>\n",
      "{'name': 'Asabeneh', 'country': 'Finland', 'city': 'Helsinki', 'skills': ['JavaScrip', 'React', 'Python']}\n",
      "Asabeneh\n"
     ]
    }
   ],
   "source": [
    "import json\n",
    "# JSON\n",
    "person_json = '''{\n",
    "    \"name\": \"Asabeneh\",\n",
    "    \"country\": \"Finland\",\n",
    "    \"city\": \"Helsinki\",\n",
    "    \"skills\": [\"JavaScrip\", \"React\", \"Python\"]\n",
    "}'''\n",
    "# let's change JSON to dictionary\n",
    "person_dct = json.loads(person_json)\n",
    "print(type(person_dct))\n",
    "print(person_dct)\n",
    "print(person_dct['name'])"
   ]
  },
  {
   "cell_type": "markdown",
   "id": "2279675f-68bd-4737-9c50-9c68a0e4dfe9",
   "metadata": {},
   "source": [
    "#### Changing Dictionary to JSON\n",
    "To change a dictionary to a JSON we use dumps method from the json module."
   ]
  },
  {
   "cell_type": "code",
   "execution_count": 135,
   "id": "31af193e-72fd-4dc7-9783-52b28056b021",
   "metadata": {},
   "outputs": [
    {
     "name": "stdout",
     "output_type": "stream",
     "text": [
      "<class 'str'>\n",
      "{\n",
      "    \"name\": \"Asabeneh\",\n",
      "    \"country\": \"Finland\",\n",
      "    \"city\": \"Helsinki\",\n",
      "    \"skills\": [\n",
      "        \"JavaScrip\",\n",
      "        \"React\",\n",
      "        \"Python\"\n",
      "    ]\n",
      "}\n"
     ]
    }
   ],
   "source": [
    "import json\n",
    "# python dictionary\n",
    "person = {\n",
    "    \"name\": \"Asabeneh\",\n",
    "    \"country\": \"Finland\",\n",
    "    \"city\": \"Helsinki\",\n",
    "    \"skills\": [\"JavaScrip\", \"React\", \"Python\"]\n",
    "}\n",
    "# let's convert it to  json\n",
    "person_json = json.dumps(person, indent=4) # indent could be 2, 4, 8. It beautifies the json\n",
    "print(type(person_json))\n",
    "print(person_json)"
   ]
  },
  {
   "cell_type": "markdown",
   "id": "62f4cf2a-9947-4a79-a716-60352b2d689b",
   "metadata": {},
   "source": [
    "#### Saving as JSON File\n",
    "We can also save our data as a json file. Let us save it as a json file using the following steps. For writing a json file, we use the json.dump() method, it can take dictionary, output file, ensure_ascii and indent. In the code, we use encoding and indentation. Indentation makes the json file easy to read."
   ]
  },
  {
   "cell_type": "code",
   "execution_count": 137,
   "id": "c321933a-8b67-49f5-a154-0707b5bdd297",
   "metadata": {},
   "outputs": [],
   "source": [
    "with open('json_example.json', 'w', encoding='utf-8') as f:\n",
    "    json.dump(person, f, ensure_ascii=False, indent=4)"
   ]
  },
  {
   "cell_type": "markdown",
   "id": "f702e8af-69cc-4b86-8019-a6f3e9e7539a",
   "metadata": {},
   "source": [
    "### File with csv Extension\n",
    "CSV stands for comma separated values. CSV is a simple file format used to store tabular data, such as a spreadsheet or database. CSV is a very common data format in data science."
   ]
  },
  {
   "cell_type": "code",
   "execution_count": 139,
   "id": "d8e4cf7c-e952-4918-a796-4c06a32624ff",
   "metadata": {},
   "outputs": [],
   "source": [
    "import csv\n",
    "\n",
    "data = [\n",
    "    {'name': 'Nikhil', 'branch': 'COE', 'year': 2, 'cgpa': 9.0},\n",
    "    {'name': 'Sanchit', 'branch': 'COE', 'year': 2, 'cgpa': 9.1},\n",
    "    {'name': 'Aditya', 'branch': 'IT', 'year': 2, 'cgpa': 9.3},\n",
    "    {'name': 'Sagar', 'branch': 'SE', 'year': 1, 'cgpa': 9.5},\n",
    "    {'name': 'Prateek', 'branch': 'MCE', 'year': 3, 'cgpa': 7.8},\n",
    "    {'name': 'Sahil', 'branch': 'EP', 'year': 2, 'cgpa': 9.1}\n",
    "]\n",
    "\n",
    "with open('csv_example.csv', 'w', newline='') as csvfile:\n",
    "    fieldnames = ['name', 'branch', 'year', 'cgpa']\n",
    "    writer = csv.DictWriter(csvfile, fieldnames=fieldnames)\n",
    "    writer.writeheader()\n",
    "    writer.writerows(data)\n"
   ]
  },
  {
   "cell_type": "code",
   "execution_count": 141,
   "id": "1692152a-82b9-43ec-ad47-97038583c8b5",
   "metadata": {},
   "outputs": [
    {
     "name": "stdout",
     "output_type": "stream",
     "text": [
      "Column names are :name, branch, year, cgpa\n",
      "\t Student Name is Nikhil. His branch is COE, He is in 2nd year. His CGPA is 9.0\n",
      "\t Student Name is Sanchit. His branch is COE, He is in 2nd year. His CGPA is 9.1\n",
      "\t Student Name is Aditya. His branch is IT, He is in 2nd year. His CGPA is 9.3\n",
      "\t Student Name is Sagar. His branch is SE, He is in 1nd year. His CGPA is 9.5\n",
      "\t Student Name is Prateek. His branch is MCE, He is in 3nd year. His CGPA is 7.8\n",
      "\t Student Name is Sahil. His branch is EP, He is in 2nd year. His CGPA is 9.1\n",
      "Number of lines:  7\n"
     ]
    }
   ],
   "source": [
    "with open('csv_example.csv') as f:\n",
    "    csv_reader = csv.reader(f, delimiter=',') # w use, reader method to read csv\n",
    "    line_count = 0\n",
    "    for row in csv_reader:\n",
    "        if line_count == 0:\n",
    "            print(f'Column names are :{\", \".join(row)}')\n",
    "            line_count += 1\n",
    "        else:\n",
    "            print(\n",
    "                f'\\t Student Name is {row[0]}. His branch is {row[1]}, He is in {row[2]}nd year. His CGPA is {row[3]}')\n",
    "            line_count += 1\n",
    "    print(f'Number of lines:  {line_count}')"
   ]
  },
  {
   "cell_type": "markdown",
   "id": "a58e416b-f283-457c-9c5e-512d75141c2f",
   "metadata": {},
   "source": [
    "#### File with xlsx Extension\n",
    "To read excel files we need to install xlsxwriter package. We will cover this after we cover package installing using pip."
   ]
  },
  {
   "cell_type": "code",
   "execution_count": 96,
   "id": "0555129d-28b0-4e5e-9eed-536d56062a69",
   "metadata": {},
   "outputs": [
    {
     "name": "stdout",
     "output_type": "stream",
     "text": [
      "Collecting xlsxwriter\n",
      "  Downloading XlsxWriter-3.2.0-py3-none-any.whl.metadata (2.6 kB)\n",
      "Downloading XlsxWriter-3.2.0-py3-none-any.whl (159 kB)\n",
      "   ---------------------------------------- 0.0/159.9 kB ? eta -:--:--\n",
      "   ------- ------------------------------- 30.7/159.9 kB 660.6 kB/s eta 0:00:01\n",
      "   ----------------------- ---------------- 92.2/159.9 kB 1.1 MB/s eta 0:00:01\n",
      "   ---------------------------------------- 159.9/159.9 kB 1.4 MB/s eta 0:00:00\n",
      "Installing collected packages: xlsxwriter\n",
      "Successfully installed xlsxwriter-3.2.0\n",
      "Note: you may need to restart the kernel to use updated packages.\n"
     ]
    }
   ],
   "source": [
    "pip install xlsxwriter"
   ]
  },
  {
   "cell_type": "code",
   "execution_count": 143,
   "id": "134a41ae-3150-4cdf-ac76-131152ffac06",
   "metadata": {},
   "outputs": [],
   "source": [
    "# import xlsxwriter module\n",
    "import xlsxwriter\n",
    "\n",
    "workbook = xlsxwriter.Workbook('Example2.xlsx')\n",
    "worksheet = workbook.add_worksheet()\n",
    "\n",
    "# Start from the first cell.\n",
    "# Rows and columns are zero indexed.\n",
    "row = 0\n",
    "column = 0\n",
    "\n",
    "content = [\"ankit\", \"rahul\", \"priya\", \"harshita\",\n",
    "\t\t\t\t\t\"sumit\", \"neeraj\", \"shivam\"]\n",
    "\n",
    "# iterating through content list\n",
    "for item in content :\n",
    "\n",
    "\t# write operation perform\n",
    "\tworksheet.write(row, column, item)\n",
    "\n",
    "\t# incrementing the value of row by one\n",
    "\t# with each iterations.\n",
    "\trow += 1\n",
    "\t\n",
    "workbook.close()\n"
   ]
  },
  {
   "cell_type": "code",
   "execution_count": 101,
   "id": "28074fde-8076-4480-b006-2e2c2e815c94",
   "metadata": {},
   "outputs": [],
   "source": [
    "# import xlsxwriter module\n",
    "import xlsxwriter\n",
    "\n",
    "workbook = xlsxwriter.Workbook('Example3.xlsx')\n",
    "\n",
    "# By default worksheet names in the spreadsheet will be \n",
    "# Sheet1, Sheet2 etc., but we can also specify a name.\n",
    "worksheet = workbook.add_worksheet(\"My sheet\")\n",
    "\n",
    "# Some data we want to write to the worksheet.\n",
    "scores = (\n",
    "\t['ankit', 1000],\n",
    "\t['rahul', 100],\n",
    "\t['priya', 300],\n",
    "\t['harshita', 50],\n",
    ")\n",
    "\n",
    "# Start from the first cell. Rows and\n",
    "# columns are zero indexed.\n",
    "row = 0\n",
    "col = 0\n",
    "\n",
    "# Iterate over the data and write it out row by row.\n",
    "for name, score in (scores):\n",
    "\tworksheet.write(row, col, name)\n",
    "\tworksheet.write(row, col + 1, score)\n",
    "\trow += 1\n",
    "\n",
    "workbook.close()"
   ]
  }
 ],
 "metadata": {
  "kernelspec": {
   "display_name": "Python 3 (ipykernel)",
   "language": "python",
   "name": "python3"
  },
  "language_info": {
   "codemirror_mode": {
    "name": "ipython",
    "version": 3
   },
   "file_extension": ".py",
   "mimetype": "text/x-python",
   "name": "python",
   "nbconvert_exporter": "python",
   "pygments_lexer": "ipython3",
   "version": "3.12.4"
  }
 },
 "nbformat": 4,
 "nbformat_minor": 5
}
