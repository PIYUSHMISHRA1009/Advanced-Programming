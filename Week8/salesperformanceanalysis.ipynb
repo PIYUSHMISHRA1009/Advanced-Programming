import csv
import json
import os
from datetime import datetime

csv_file = 'product_inventory.csv'

def add_new_product(product_id, product_name, category, price, stock_quantity):
    try:
        with open(csv_file, 'a', newline='') as file:
            writer = csv.writer(file)
            writer.writerow([product_id, product_name, category, price, stock_quantity])
            print(f"Product {product_name} added successfully!")
    except FileNotFoundError:
        print("Error: CSV file not found.")
    except PermissionError:
        print("Error: You do not have permission to write to the file.")
    except Exception as e:
        print(f"An error occurred: {e}")

def update_stock_and_price(product_id, new_price, new_stock):
    try:
        products = []
        with open(csv_file, 'r') as file:
            reader = csv.reader(file)
            for row in reader:
                if row[0] == product_id:
                    row[3] = new_price
                    row[4] = new_stock
                products.append(row)
        
        with open(csv_file, 'w', newline='') as file:
            writer = csv.writer(file)
            writer.writerows(products)
            print(f"Product {product_id} updated successfully!")
    
    except FileNotFoundError:
        print("Error: CSV file not found.")
    except PermissionError:
        print("Error: You do not have permission to modify the file.")
    except Exception as e:
        print(f"An error occurred: {e}")

def check_product_availability(product_id):
    try:
        with open(csv_file, 'r') as file:
            reader = csv.reader(file)
            for row in reader:
                if row[0] == product_id:
                    return int(row[4]) > 0, row[4]
            return False, 0
    except FileNotFoundError:
        print("Error: CSV file not found.")
    except PermissionError:
        print("Error: You do not have permission to read the file.")
    except Exception as e:
        print(f"An error occurred: {e}")

def add_customer_review(product_id, review_id, user_id, rating, comment, date):
    json_file = f'{product_id}_reviews.json'
    try:
        if os.path.exists(json_file):
            with open(json_file, 'r') as file:
                reviews = json.load(file)
        else:
            reviews = []
        
        reviews.append({
            "Review ID": review_id,
            "User ID": user_id,
            "Rating": rating,
            "Comment": comment,
            "Date": date
        })
        
        with open(json_file, 'w') as file:
            json.dump(reviews, file, indent=4)
            print(f"Review added successfully for product {product_id}!")
    
    except FileNotFoundError:
        print(f"Error: Review file for product {product_id} not found.")
    except json.JSONDecodeError:
        print("Error: Invalid JSON format in the review file.")
    except PermissionError:
        print("Error: You do not have permission to modify the review file.")
    except Exception as e:
        print(f"An error occurred: {e}")

def calculate_average_rating(product_id):
    json_file = f'{product_id}_reviews.json'
    try:
        with open(json_file, 'r') as file:
            reviews = json.load(file)
            if not reviews:
                return 0
            total_rating = sum([review["Rating"] for review in reviews])
            return total_rating / len(reviews)
    
    except FileNotFoundError:
        print(f"Error: Review file for product {product_id} not found.")
    except json.JSONDecodeError:
        print("Error: Invalid JSON format in the review file.")
    except PermissionError:
        print("Error: You do not have permission to read the review file.")
    except Exception as e:
        print(f"An error occurred: {e}")

def search_reviews(product_id, keyword):
    json_file = f'{product_id}_reviews.json'
    try:
        with open(json_file, 'r') as file:
            reviews = json.load(file)
            matching_reviews = [review for review in reviews if keyword.lower() in review["Comment"].lower()]
            return matching_reviews
    
    except FileNotFoundError:
        print(f"Error: Review file for product {product_id} not found.")
    except json.JSONDecodeError:
        print("Error: Invalid JSON format in the review file.")
    except PermissionError:
        print("Error: You do not have permission to read the review file.")
    except Exception as e:
        print(f"An error occurred: {e}")

def top_rated_products(product_ids):
    ratings = {}
    for product_id in product_ids:
        avg_rating = calculate_average_rating(product_id)
        ratings[product_id] = avg_rating
    top_products = sorted(ratings.items(), key=lambda x: x[1], reverse=True)[:5]
    return top_products

def list_out_of_stock_products():
    try:
        out_of_stock_products = []
        with open(csv_file, 'r') as file:
            reader = csv.reader(file)
            next(reader)
            for row in reader:
                if int(row[4]) == 0:
                    out_of_stock_products.append(row[1])
        return out_of_stock_products
    
    except FileNotFoundError:
        print("Error: CSV file not found.")
    except PermissionError:
        print("Error: You do not have permission to read the file.")
    except Exception as e:
        print(f"An error occurred: {e}")

def track_price_trends(months=1):
    try:
        price_trends = []
        return price_trends
    except FileNotFoundError:
        print("Error: CSV file not found.")
    except PermissionError:
        print("Error: You do not have permission to read the file.")
    except Exception as e:
        print(f"An error occurred: {e}")
